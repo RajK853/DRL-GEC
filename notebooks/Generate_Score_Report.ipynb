{
 "cells": [
  {
   "cell_type": "code",
   "execution_count": 1,
   "id": "469c966d-81b5-4cd6-935a-25d77e8a4868",
   "metadata": {},
   "outputs": [],
   "source": [
    "import os\n",
    "import pandas as pd"
   ]
  },
  {
   "cell_type": "code",
   "execution_count": 2,
   "id": "d2085486-38df-4b43-b092-f563f06c8ac9",
   "metadata": {},
   "outputs": [
    {
     "name": "stdout",
     "output_type": "stream",
     "text": [
      "/home/rajk/Machine_Learning/DRL-GEC\n",
      "/home/rajk/Machine_Learning/DRL-GEC/notebooks\n"
     ]
    }
   ],
   "source": [
    "%cd ..\n",
    "from src.utils import load_text\n",
    "%cd notebooks"
   ]
  },
  {
   "cell_type": "code",
   "execution_count": 12,
   "id": "3ea20dec-d777-4c31-8a27-7b361083e40d",
   "metadata": {},
   "outputs": [],
   "source": [
    "model_dict = {\n",
    "    \"Pretrain\": (os.path.abspath(\"sl_logs/pretrain_synthetic_23:10:2022_18:26/\"), \"model-best\"),\n",
    "    \"Pretrain + SL Fine-Tune\": (os.path.abspath(\"sl_logs/finetune_wi+locness_27:10:2022_11:45\"), \"model-best\"),\n",
    "    \"Pretrain + RL Fine-Tune (FL)\": (os.path.abspath(\"pg_logs/finetune_rl_30_10_2022_10:33\"), \"model-last\"),\n",
    "    \"Pretrain + RL Fine-Tune (CL)\": (os.path.abspath(\"pg_logs/finetune_rl_30_10_2022_14:27\"), \"model-last\"),\n",
    "}"
   ]
  },
  {
   "cell_type": "markdown",
   "id": "94999a1d-1b28-471f-92a8-f01339c35e2c",
   "metadata": {},
   "source": [
    "# CONLL Scores"
   ]
  },
  {
   "cell_type": "code",
   "execution_count": 6,
   "id": "cf2aa421-74e9-410e-833b-ed8d4382d546",
   "metadata": {},
   "outputs": [
    {
     "data": {
      "text/html": [
       "<style type=\"text/css\">\n",
       "#T_89600_row1_col2, #T_89600_row1_col3, #T_89600_row3_col1 {\n",
       "  background-color: lightgreen;\n",
       "}\n",
       "</style>\n",
       "<table id=\"T_89600\">\n",
       "  <thead>\n",
       "    <tr>\n",
       "      <th class=\"blank level0\" >&nbsp;</th>\n",
       "      <th id=\"T_89600_level0_col0\" class=\"col_heading level0 col0\" >Model</th>\n",
       "      <th id=\"T_89600_level0_col1\" class=\"col_heading level0 col1\" >Precision</th>\n",
       "      <th id=\"T_89600_level0_col2\" class=\"col_heading level0 col2\" >Recall</th>\n",
       "      <th id=\"T_89600_level0_col3\" class=\"col_heading level0 col3\" >F-0.5 Score</th>\n",
       "    </tr>\n",
       "  </thead>\n",
       "  <tbody>\n",
       "    <tr>\n",
       "      <th id=\"T_89600_level0_row0\" class=\"row_heading level0 row0\" >0</th>\n",
       "      <td id=\"T_89600_row0_col0\" class=\"data row0 col0\" >Pretrain</td>\n",
       "      <td id=\"T_89600_row0_col1\" class=\"data row0 col1\" >0.5694</td>\n",
       "      <td id=\"T_89600_row0_col2\" class=\"data row0 col2\" >0.3342</td>\n",
       "      <td id=\"T_89600_row0_col3\" class=\"data row0 col3\" >0.4991</td>\n",
       "    </tr>\n",
       "    <tr>\n",
       "      <th id=\"T_89600_level0_row1\" class=\"row_heading level0 row1\" >1</th>\n",
       "      <td id=\"T_89600_row1_col0\" class=\"data row1 col0\" >Pretrain + SL Fine-Tune</td>\n",
       "      <td id=\"T_89600_row1_col1\" class=\"data row1 col1\" >0.6244</td>\n",
       "      <td id=\"T_89600_row1_col2\" class=\"data row1 col2\" >0.4377</td>\n",
       "      <td id=\"T_89600_row1_col3\" class=\"data row1 col3\" >0.5753</td>\n",
       "    </tr>\n",
       "    <tr>\n",
       "      <th id=\"T_89600_level0_row2\" class=\"row_heading level0 row2\" >2</th>\n",
       "      <td id=\"T_89600_row2_col0\" class=\"data row2 col0\" >Pretrain + RL Fine-Tune (FL)</td>\n",
       "      <td id=\"T_89600_row2_col1\" class=\"data row2 col1\" >0.7186</td>\n",
       "      <td id=\"T_89600_row2_col2\" class=\"data row2 col2\" >0.3184</td>\n",
       "      <td id=\"T_89600_row2_col3\" class=\"data row2 col3\" >0.5742</td>\n",
       "    </tr>\n",
       "    <tr>\n",
       "      <th id=\"T_89600_level0_row3\" class=\"row_heading level0 row3\" >3</th>\n",
       "      <td id=\"T_89600_row3_col0\" class=\"data row3 col0\" >Pretrain + RL Fine-Tune (CL)</td>\n",
       "      <td id=\"T_89600_row3_col1\" class=\"data row3 col1\" >0.7271</td>\n",
       "      <td id=\"T_89600_row3_col2\" class=\"data row3 col2\" >0.2808</td>\n",
       "      <td id=\"T_89600_row3_col3\" class=\"data row3 col3\" >0.5517</td>\n",
       "    </tr>\n",
       "  </tbody>\n",
       "</table>\n"
      ],
      "text/plain": [
       "<pandas.io.formats.style.Styler at 0x7f61df59d7f0>"
      ]
     },
     "execution_count": 6,
     "metadata": {},
     "output_type": "execute_result"
    }
   ],
   "source": [
    "results = []\n",
    "for model_name, (model_path, model_type) in model_dict.items():\n",
    "    dataset_path = os.path.join(model_path, \"conll\", f\"{model_type}.score\")\n",
    "    data = load_text(dataset_path)\n",
    "    p, r, f = (line.split(\": \")[1] for line in data[-3:])\n",
    "    results.append({\"Model\": model_name, \"Precision\": p, \"Recall\": r, \"F-0.5 Score\": f})\n",
    "conll_df = pd.DataFrame(results)\n",
    "conll_df.style.highlight_max(subset=[\"Precision\", \"Recall\", \"F-0.5 Score\"], color='lightgreen', axis=0)"
   ]
  },
  {
   "cell_type": "markdown",
   "id": "1529e1a0-4113-41a2-8539-5dac450874b5",
   "metadata": {},
   "source": [
    "# JFLEG Scores"
   ]
  },
  {
   "cell_type": "code",
   "execution_count": 7,
   "id": "8a984ce7-7115-467a-89b9-9ef6a0eb8747",
   "metadata": {},
   "outputs": [
    {
     "data": {
      "text/html": [
       "<style type=\"text/css\">\n",
       "#T_ba409_row1_col1, #T_ba409_row1_col2 {\n",
       "  background-color: lightgreen;\n",
       "}\n",
       "</style>\n",
       "<table id=\"T_ba409\">\n",
       "  <thead>\n",
       "    <tr>\n",
       "      <th class=\"blank level0\" >&nbsp;</th>\n",
       "      <th id=\"T_ba409_level0_col0\" class=\"col_heading level0 col0\" >Model</th>\n",
       "      <th id=\"T_ba409_level0_col1\" class=\"col_heading level0 col1\" >Dev Score</th>\n",
       "      <th id=\"T_ba409_level0_col2\" class=\"col_heading level0 col2\" >Test Score</th>\n",
       "    </tr>\n",
       "  </thead>\n",
       "  <tbody>\n",
       "    <tr>\n",
       "      <th id=\"T_ba409_level0_row0\" class=\"row_heading level0 row0\" >0</th>\n",
       "      <td id=\"T_ba409_row0_col0\" class=\"data row0 col0\" >Pretrain</td>\n",
       "      <td id=\"T_ba409_row0_col1\" class=\"data row0 col1\" >0.512819</td>\n",
       "      <td id=\"T_ba409_row0_col2\" class=\"data row0 col2\" >0.528014</td>\n",
       "    </tr>\n",
       "    <tr>\n",
       "      <th id=\"T_ba409_level0_row1\" class=\"row_heading level0 row1\" >1</th>\n",
       "      <td id=\"T_ba409_row1_col0\" class=\"data row1 col0\" >Pretrain + SL Fine-Tune</td>\n",
       "      <td id=\"T_ba409_row1_col1\" class=\"data row1 col1\" >0.545328</td>\n",
       "      <td id=\"T_ba409_row1_col2\" class=\"data row1 col2\" >0.584242</td>\n",
       "    </tr>\n",
       "    <tr>\n",
       "      <th id=\"T_ba409_level0_row2\" class=\"row_heading level0 row2\" >2</th>\n",
       "      <td id=\"T_ba409_row2_col0\" class=\"data row2 col0\" >Pretrain + RL Fine-Tune (FL)</td>\n",
       "      <td id=\"T_ba409_row2_col1\" class=\"data row2 col1\" >0.521762</td>\n",
       "      <td id=\"T_ba409_row2_col2\" class=\"data row2 col2\" >0.557454</td>\n",
       "    </tr>\n",
       "    <tr>\n",
       "      <th id=\"T_ba409_level0_row3\" class=\"row_heading level0 row3\" >3</th>\n",
       "      <td id=\"T_ba409_row3_col0\" class=\"data row3 col0\" >Pretrain + RL Fine-Tune (CL)</td>\n",
       "      <td id=\"T_ba409_row3_col1\" class=\"data row3 col1\" >0.515912</td>\n",
       "      <td id=\"T_ba409_row3_col2\" class=\"data row3 col2\" >0.542246</td>\n",
       "    </tr>\n",
       "  </tbody>\n",
       "</table>\n"
      ],
      "text/plain": [
       "<pandas.io.formats.style.Styler at 0x7f610acac7c0>"
      ]
     },
     "execution_count": 7,
     "metadata": {},
     "output_type": "execute_result"
    }
   ],
   "source": [
    "results = []\n",
    "for model_name, (model_path, model_type) in model_dict.items():\n",
    "    model_dict = {\"Model\": model_name}\n",
    "    for score_type in (\"dev\", \"test\"):\n",
    "        dataset_path = os.path.join(model_path, \"jfleg\", f\"{model_type}_{score_type}.score\")\n",
    "        data = load_text(dataset_path)\n",
    "        score_list = eval(data[-1])\n",
    "        model_dict[f\"{score_type.title()} Score\"] = score_list[0][0]\n",
    "    results.append(model_dict)\n",
    "jfleg_df = pd.DataFrame(results)\n",
    "jfleg_df.style.highlight_max(subset=[\"Dev Score\", \"Test Score\"], color='lightgreen', axis=0)"
   ]
  }
 ],
 "metadata": {
  "kernelspec": {
   "display_name": "drl-gec",
   "language": "python",
   "name": "drl-gec"
  },
  "language_info": {
   "codemirror_mode": {
    "name": "ipython",
    "version": 3
   },
   "file_extension": ".py",
   "mimetype": "text/x-python",
   "name": "python",
   "nbconvert_exporter": "python",
   "pygments_lexer": "ipython3",
   "version": "3.8.13"
  }
 },
 "nbformat": 4,
 "nbformat_minor": 5
}
