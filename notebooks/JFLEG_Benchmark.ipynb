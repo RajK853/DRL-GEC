{
 "cells": [
  {
   "cell_type": "code",
   "execution_count": 1,
   "id": "af1ff4b7-f9af-42b6-a0f8-b973f0f3a15a",
   "metadata": {},
   "outputs": [],
   "source": [
    "import os\n",
    "import sys\n",
    "import torch\n",
    "import numpy as np"
   ]
  },
  {
   "cell_type": "code",
   "execution_count": 2,
   "id": "252eb6dd-5482-45a7-89c2-e7ce8dddc5be",
   "metadata": {},
   "outputs": [],
   "source": [
    "os.environ[\"TOKENIZERS_PARALLELISM\"] = \"false\"\n",
    "device = torch.device(\"cuda:0\" if torch.cuda.is_available() else \"cpu\")"
   ]
  },
  {
   "cell_type": "code",
   "execution_count": 3,
   "id": "a09416dc-d1ba-41f2-aaff-7747c3142ef1",
   "metadata": {},
   "outputs": [
    {
     "name": "stdout",
     "output_type": "stream",
     "text": [
      "/home/rajk/Machine_Learning/DRL-GEC\n",
      "/home/rajk/Machine_Learning/DRL-GEC/notebooks\n"
     ]
    }
   ],
   "source": [
    "%cd ..\n",
    "from src.utils import load_text, write_text, iterative_prediction\n",
    "from src.models.seq2labels import PretrainedEncoder, Seq2Labels, Seq2LabelsDeeper\n",
    "%cd notebooks"
   ]
  },
  {
   "cell_type": "markdown",
   "id": "fcd785da-1d59-4254-94e2-e383d8977538",
   "metadata": {},
   "source": [
    "# Define Parameters"
   ]
  },
  {
   "cell_type": "code",
   "execution_count": 4,
   "id": "4e8afe90-b0e2-4204-9881-374a12f239c9",
   "metadata": {},
   "outputs": [],
   "source": [
    "force = True\n",
    "max_iter = 10\n",
    "model_path = os.path.abspath(\"sl_logs/pretrain_synthetic_23:10:2022_18:26/model-best.pt\")\n",
    "model_path = os.path.abspath(\"pg_logs/finetune_rl_30_10_2022_14:27/model-best.pt\")\n",
    "pytorch_model_name = os.path.basename(model_path)\n",
    "model_dir = os.path.dirname(model_path)\n",
    "benchmark_dir = os.path.join(model_dir, \"jfleg\")\n",
    "os.makedirs(benchmark_dir, exist_ok=True)"
   ]
  },
  {
   "cell_type": "code",
   "execution_count": 5,
   "id": "835fe6dc-f3d0-4f1c-a3a8-b7652f7fdc7f",
   "metadata": {},
   "outputs": [],
   "source": [
    "label_path = \"../data/vocabs/labels.txt\"\n",
    "jfleg_repo_path = os.path.abspath(\"../../jfleg/\")"
   ]
  },
  {
   "cell_type": "markdown",
   "id": "b9d446c1-2de0-47ec-bf1f-09625a91029b",
   "metadata": {},
   "source": [
    "# Load Labels"
   ]
  },
  {
   "cell_type": "code",
   "execution_count": 6,
   "id": "11d53e71-a4ad-4c97-afd7-c3053f1da603",
   "metadata": {},
   "outputs": [
    {
     "name": "stdout",
     "output_type": "stream",
     "text": [
      "Number of labels: 5000\n"
     ]
    }
   ],
   "source": [
    "label_vocab = np.char.array(load_text(label_path))\n",
    "print(f\"Number of labels: {len(label_vocab)}\")"
   ]
  },
  {
   "cell_type": "markdown",
   "id": "e5cc91cd-ccc2-4726-8f77-950f5b62b977",
   "metadata": {},
   "source": [
    "# Load Model"
   ]
  },
  {
   "cell_type": "code",
   "execution_count": 7,
   "id": "33f67eaa-9ebd-47dd-96cd-13f1473ebf5b",
   "metadata": {},
   "outputs": [
    {
     "name": "stderr",
     "output_type": "stream",
     "text": [
      "Some weights of the model checkpoint at roberta-base were not used when initializing RobertaModel: ['lm_head.dense.bias', 'lm_head.dense.weight', 'lm_head.bias', 'lm_head.layer_norm.bias', 'lm_head.decoder.weight', 'lm_head.layer_norm.weight']\n",
      "- This IS expected if you are initializing RobertaModel from the checkpoint of a model trained on another task or with another architecture (e.g. initializing a BertForSequenceClassification model from a BertForPreTraining model).\n",
      "- This IS NOT expected if you are initializing RobertaModel from the checkpoint of a model that you expect to be exactly identical (initializing a BertForSequenceClassification model from a BertForSequenceClassification model).\n"
     ]
    }
   ],
   "source": [
    "model_name = \"roberta-base\"\n",
    "encoder = PretrainedEncoder(model_name).to(device)\n",
    "policy = Seq2Labels(encoder_model=encoder, num_labels=len(label_vocab)).to(device)\n",
    "if model_path:\n",
    "    policy.load_state_dict(torch.load(model_path))\n",
    "_ = policy.eval()"
   ]
  },
  {
   "cell_type": "markdown",
   "id": "95a57871-ba4f-468f-bdbf-e95603b760ab",
   "metadata": {},
   "source": [
    "# Make predictions on the test and dev datasets"
   ]
  },
  {
   "cell_type": "code",
   "execution_count": 8,
   "id": "d37a7137-c080-46fa-be98-8763eb000d2a",
   "metadata": {},
   "outputs": [
    {
     "name": "stdout",
     "output_type": "stream",
     "text": [
      "Benchmarking JFLEG Dev\n",
      "Number of benchmark sentences: 754\n"
     ]
    },
    {
     "data": {
      "application/vnd.jupyter.widget-view+json": {
       "model_id": "afbbe4eb940e4b718d80b4b7411d4b39",
       "version_major": 2,
       "version_minor": 0
      },
      "text/plain": [
       "Iteration 1:   0%|          | 0/754 [00:00<?, ?it/s]"
      ]
     },
     "metadata": {},
     "output_type": "display_data"
    },
    {
     "data": {
      "application/vnd.jupyter.widget-view+json": {
       "model_id": "928e75950cef4b96b86b46aa08d4813a",
       "version_major": 2,
       "version_minor": 0
      },
      "text/plain": [
       "Iteration 2:   0%|          | 0/424 [00:00<?, ?it/s]"
      ]
     },
     "metadata": {},
     "output_type": "display_data"
    },
    {
     "data": {
      "application/vnd.jupyter.widget-view+json": {
       "model_id": "b2e02e86b40543bc8e46abeddc1ceabc",
       "version_major": 2,
       "version_minor": 0
      },
      "text/plain": [
       "Iteration 3:   0%|          | 0/72 [00:00<?, ?it/s]"
      ]
     },
     "metadata": {},
     "output_type": "display_data"
    },
    {
     "data": {
      "application/vnd.jupyter.widget-view+json": {
       "model_id": "9638fce26bfa4a7a82fa155451d14bdd",
       "version_major": 2,
       "version_minor": 0
      },
      "text/plain": [
       "Iteration 4:   0%|          | 0/13 [00:00<?, ?it/s]"
      ]
     },
     "metadata": {},
     "output_type": "display_data"
    },
    {
     "data": {
      "application/vnd.jupyter.widget-view+json": {
       "model_id": "7da11902af91464e9f92d5b68580c3b2",
       "version_major": 2,
       "version_minor": 0
      },
      "text/plain": [
       "Iteration 5:   0%|          | 0/1 [00:00<?, ?it/s]"
      ]
     },
     "metadata": {},
     "output_type": "display_data"
    },
    {
     "name": "stdout",
     "output_type": "stream",
     "text": [
      "\n",
      "Benchmarking JFLEG Test\n",
      "Number of benchmark sentences: 747\n"
     ]
    },
    {
     "data": {
      "application/vnd.jupyter.widget-view+json": {
       "model_id": "2f5c48c3244544b8a6b9aff5ccb145f7",
       "version_major": 2,
       "version_minor": 0
      },
      "text/plain": [
       "Iteration 1:   0%|          | 0/747 [00:00<?, ?it/s]"
      ]
     },
     "metadata": {},
     "output_type": "display_data"
    },
    {
     "data": {
      "application/vnd.jupyter.widget-view+json": {
       "model_id": "c656c503cf964070a53fba2db1a13380",
       "version_major": 2,
       "version_minor": 0
      },
      "text/plain": [
       "Iteration 2:   0%|          | 0/691 [00:00<?, ?it/s]"
      ]
     },
     "metadata": {},
     "output_type": "display_data"
    },
    {
     "data": {
      "application/vnd.jupyter.widget-view+json": {
       "model_id": "4c2022d01de84bc5a91a938c20acb047",
       "version_major": 2,
       "version_minor": 0
      },
      "text/plain": [
       "Iteration 3:   0%|          | 0/120 [00:00<?, ?it/s]"
      ]
     },
     "metadata": {},
     "output_type": "display_data"
    },
    {
     "data": {
      "application/vnd.jupyter.widget-view+json": {
       "model_id": "2cc4ecb4e52745019ddaea91e1f55851",
       "version_major": 2,
       "version_minor": 0
      },
      "text/plain": [
       "Iteration 4:   0%|          | 0/19 [00:00<?, ?it/s]"
      ]
     },
     "metadata": {},
     "output_type": "display_data"
    },
    {
     "data": {
      "application/vnd.jupyter.widget-view+json": {
       "model_id": "a2d7fe91543547308d551cec82b29e81",
       "version_major": 2,
       "version_minor": 0
      },
      "text/plain": [
       "Iteration 5:   0%|          | 0/5 [00:00<?, ?it/s]"
      ]
     },
     "metadata": {},
     "output_type": "display_data"
    },
    {
     "data": {
      "application/vnd.jupyter.widget-view+json": {
       "model_id": "fc17666a203148bab34878830f1be902",
       "version_major": 2,
       "version_minor": 0
      },
      "text/plain": [
       "Iteration 6:   0%|          | 0/1 [00:00<?, ?it/s]"
      ]
     },
     "metadata": {},
     "output_type": "display_data"
    },
    {
     "name": "stdout",
     "output_type": "stream",
     "text": [
      "\n"
     ]
    }
   ],
   "source": [
    "for benchmark_type in (\"dev\", \"test\"):\n",
    "    print(f\"Benchmarking JFLEG {benchmark_type.title()}\")\n",
    "    data_path = os.path.join(jfleg_repo_path, f\"{benchmark_type}/{benchmark_type}.spellchecked.src\")\n",
    "    output_path = os.path.join(benchmark_dir, pytorch_model_name.replace(\".pt\", f\"_{benchmark_type}.out\"))\n",
    "    if force or not os.path.exists(output_path):\n",
    "        benchmark_sentences = load_text(data_path)\n",
    "        print(f\"Number of benchmark sentences: {len(benchmark_sentences)}\")\n",
    "        corrected_sentences = iterative_prediction(policy, label_vocab, benchmark_sentences, num_iter=max_iter, filter_labels=False, insert_start=True)\n",
    "        write_text(corrected_sentences, output_path)\n",
    "    else:\n",
    "        print(f\"Output file '{output_path}' already exists!\")\n",
    "    print()"
   ]
  },
  {
   "cell_type": "markdown",
   "id": "39a4e5f3-4bf4-4bfe-bb62-76e38d48a744",
   "metadata": {},
   "source": [
    "# Evalaute GLEU score on the test and dev datasets"
   ]
  },
  {
   "cell_type": "code",
   "execution_count": 9,
   "id": "e945b20e-135b-4676-a02e-376f371d9390",
   "metadata": {},
   "outputs": [
    {
     "name": "stdout",
     "output_type": "stream",
     "text": [
      "/home/rajk/Machine_Learning/jfleg\n",
      "Evaluating dev\n",
      "Running GLEU...\n",
      "/home/rajk/Machine_Learning/DRL-GEC/notebooks/pg_logs/finetune_rl_30_10_2022_14:27/jfleg/model-best_dev.out\n",
      "[['0.511313', '0.009029', '(0.494,0.529)']]\n",
      "\n",
      "Evaluating test\n",
      "Running GLEU...\n",
      "/home/rajk/Machine_Learning/DRL-GEC/notebooks/pg_logs/finetune_rl_30_10_2022_14:27/jfleg/model-best_test.out\n",
      "[['0.536822', '0.008207', '(0.521,0.553)']]\n",
      "\n",
      "/home/rajk/Machine_Learning/DRL-GEC/notebooks\n"
     ]
    }
   ],
   "source": [
    "cwd = os.getcwd()\n",
    "%cd $jfleg_repo_path\n",
    "for benchmark_type in (\"dev\", \"test\"):\n",
    "    src_path = f\"./{benchmark_type}/{benchmark_type}.src\"\n",
    "    ref_path = f\"./{benchmark_type}/{benchmark_type}.ref[0-3]\"\n",
    "    output_path = os.path.join(benchmark_dir, pytorch_model_name.replace(\".pt\", f\"_{benchmark_type}.out\"))\n",
    "    score_path = os.path.join(benchmark_dir, pytorch_model_name.replace(\".pt\", f\"_{benchmark_type}.score\"))\n",
    "    !echo Evaluating $benchmark_type\n",
    "    !{sys.executable} ./eval/gleu.py --ref $ref_path --src $src_path --hyp $output_path > $score_path\n",
    "    !cat $score_path\n",
    "    print()\n",
    "%cd $cwd"
   ]
  },
  {
   "cell_type": "code",
   "execution_count": null,
   "id": "9d44045d-672c-4870-91d2-3e50f1e363d1",
   "metadata": {},
   "outputs": [],
   "source": []
  }
 ],
 "metadata": {
  "kernelspec": {
   "display_name": "drl-gec",
   "language": "python",
   "name": "drl-gec"
  },
  "language_info": {
   "codemirror_mode": {
    "name": "ipython",
    "version": 3
   },
   "file_extension": ".py",
   "mimetype": "text/x-python",
   "name": "python",
   "nbconvert_exporter": "python",
   "pygments_lexer": "ipython3",
   "version": "3.8.13"
  }
 },
 "nbformat": 4,
 "nbformat_minor": 5
}
