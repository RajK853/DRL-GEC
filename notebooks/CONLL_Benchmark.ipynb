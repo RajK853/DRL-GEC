{
 "cells": [
  {
   "cell_type": "code",
   "execution_count": 1,
   "id": "af1ff4b7-f9af-42b6-a0f8-b973f0f3a15a",
   "metadata": {},
   "outputs": [],
   "source": [
    "import os\n",
    "import sys\n",
    "import torch\n",
    "import numpy as np"
   ]
  },
  {
   "cell_type": "code",
   "execution_count": 2,
   "id": "252eb6dd-5482-45a7-89c2-e7ce8dddc5be",
   "metadata": {},
   "outputs": [],
   "source": [
    "os.environ[\"TOKENIZERS_PARALLELISM\"] = \"false\"\n",
    "device = torch.device(\"cuda:0\" if torch.cuda.is_available() else \"cpu\")"
   ]
  },
  {
   "cell_type": "code",
   "execution_count": 3,
   "id": "a09416dc-d1ba-41f2-aaff-7747c3142ef1",
   "metadata": {},
   "outputs": [
    {
     "name": "stdout",
     "output_type": "stream",
     "text": [
      "/home/rajk/Machine_Learning/DRL-GEC\n",
      "/home/rajk/Machine_Learning/DRL-GEC/notebooks\n"
     ]
    }
   ],
   "source": [
    "%cd ..\n",
    "from src.utils import load_labels, read_m2, load_model, write_text, iterative_prediction\n",
    "%cd notebooks"
   ]
  },
  {
   "cell_type": "markdown",
   "id": "fcd785da-1d59-4254-94e2-e383d8977538",
   "metadata": {},
   "source": [
    "# Define Parameters"
   ]
  },
  {
   "cell_type": "code",
   "execution_count": 5,
   "id": "e97faf66-cc9b-4e5d-af3d-aa55611c3869",
   "metadata": {},
   "outputs": [],
   "source": [
    "force = True\n",
    "max_iter = 10\n",
    "benchmark = \"conll\"\n",
    "model_path = os.path.abspath(\"sl_logs/finetune_wi+locness_03:11:2022_00:32/model-best.pt\")\n",
    "model_path = os.path.abspath(\"pg_logs/finetune_rl_09_11_2022_08:20/model-last.pt\")\n",
    "model_dir = os.path.dirname(model_path)\n",
    "pytorch_model_name = os.path.basename(model_path)\n",
    "benchmark_dir = os.path.join(model_dir, benchmark)\n",
    "output_path = os.path.join(benchmark_dir, pytorch_model_name.replace(\".pt\", \".out\"))\n",
    "score_path = os.path.join(benchmark_dir, pytorch_model_name.replace(\".pt\", \".score\"))\n",
    "os.makedirs(benchmark_dir, exist_ok=True)"
   ]
  },
  {
   "cell_type": "markdown",
   "id": "1ef32490-8b7e-464b-a739-d8563b9648ed",
   "metadata": {},
   "source": [
    "The parameters below are the benchmark related parameters that stay same for all models."
   ]
  },
  {
   "cell_type": "code",
   "execution_count": 6,
   "id": "3e4f76bb-4d95-481c-bfd8-43f0eb876089",
   "metadata": {},
   "outputs": [],
   "source": [
    "label_path = \"../data/vocabs/labels.txt\"\n",
    "conll_repo_path = os.path.abspath(\"../m2scorer/\")\n",
    "data_path = os.path.join(conll_repo_path, f\"conll14st-test-data/alt/official-2014.combined-withalt.m2\")"
   ]
  },
  {
   "cell_type": "markdown",
   "id": "b9d446c1-2de0-47ec-bf1f-09625a91029b",
   "metadata": {},
   "source": [
    "# Load Labels"
   ]
  },
  {
   "cell_type": "code",
   "execution_count": 7,
   "id": "11d53e71-a4ad-4c97-afd7-c3053f1da603",
   "metadata": {},
   "outputs": [
    {
     "name": "stdout",
     "output_type": "stream",
     "text": [
      "Number of labels: 5001\n"
     ]
    }
   ],
   "source": [
    "label_vocab = load_labels(label_path, verbose=True)"
   ]
  },
  {
   "cell_type": "markdown",
   "id": "e5cc91cd-ccc2-4726-8f77-950f5b62b977",
   "metadata": {},
   "source": [
    "# Load Model"
   ]
  },
  {
   "cell_type": "code",
   "execution_count": 8,
   "id": "33f67eaa-9ebd-47dd-96cd-13f1473ebf5b",
   "metadata": {
    "tags": []
   },
   "outputs": [
    {
     "name": "stderr",
     "output_type": "stream",
     "text": [
      "Some weights of the model checkpoint at roberta-base were not used when initializing RobertaModel: ['lm_head.layer_norm.weight', 'roberta.pooler.dense.weight', 'lm_head.layer_norm.bias', 'roberta.pooler.dense.bias', 'lm_head.decoder.weight', 'lm_head.bias', 'lm_head.dense.weight', 'lm_head.dense.bias']\n",
      "- This IS expected if you are initializing RobertaModel from the checkpoint of a model trained on another task or with another architecture (e.g. initializing a BertForSequenceClassification model from a BertForPreTraining model).\n",
      "- This IS NOT expected if you are initializing RobertaModel from the checkpoint of a model that you expect to be exactly identical (initializing a BertForSequenceClassification model from a BertForSequenceClassification model).\n"
     ]
    }
   ],
   "source": [
    "policy = load_model(model_path, model_name=\"roberta-base\", num_labels=len(label_vocab))"
   ]
  },
  {
   "cell_type": "markdown",
   "id": "95a57871-ba4f-468f-bdbf-e95603b760ab",
   "metadata": {},
   "source": [
    "# Make predictions on the test and dev datasets"
   ]
  },
  {
   "cell_type": "code",
   "execution_count": 9,
   "id": "d37a7137-c080-46fa-be98-8763eb000d2a",
   "metadata": {},
   "outputs": [
    {
     "name": "stdout",
     "output_type": "stream",
     "text": [
      "Benchmarking CONLL-2014 Test\n",
      "Number of benchmark sentences: 1312\n"
     ]
    },
    {
     "data": {
      "application/vnd.jupyter.widget-view+json": {
       "model_id": "39c73915d67948b5b25cd79897d10d74",
       "version_major": 2,
       "version_minor": 0
      },
      "text/plain": [
       "Iteration 1:   0%|          | 0/1312 [00:00<?, ?it/s]"
      ]
     },
     "metadata": {},
     "output_type": "display_data"
    },
    {
     "data": {
      "application/vnd.jupyter.widget-view+json": {
       "model_id": "e7131523a57b464c9549e949fe14fc03",
       "version_major": 2,
       "version_minor": 0
      },
      "text/plain": [
       "Iteration 2:   0%|          | 0/113 [00:00<?, ?it/s]"
      ]
     },
     "metadata": {},
     "output_type": "display_data"
    },
    {
     "data": {
      "application/vnd.jupyter.widget-view+json": {
       "model_id": "06fcf45cabd743fd8298a66adeb190d3",
       "version_major": 2,
       "version_minor": 0
      },
      "text/plain": [
       "Iteration 3:   0%|          | 0/3 [00:00<?, ?it/s]"
      ]
     },
     "metadata": {},
     "output_type": "display_data"
    },
    {
     "name": "stdout",
     "output_type": "stream",
     "text": [
      "\n",
      "CPU times: user 8.5 s, sys: 351 ms, total: 8.85 s\n",
      "Wall time: 9.19 s\n"
     ]
    }
   ],
   "source": [
    "%%time\n",
    "policy.eval()\n",
    "print(f\"Benchmarking CONLL-2014 Test\")\n",
    "if force or not os.path.exists(output_path):\n",
    "    benchmark_sentences = read_m2(data_path)\n",
    "    print(f\"Number of benchmark sentences: {len(benchmark_sentences)}\")\n",
    "    corrected_sentences = iterative_prediction(policy, label_vocab, benchmark_sentences, num_iter=max_iter, filter_labels=False, insert_start=True)\n",
    "    write_text(corrected_sentences, output_path)\n",
    "else:\n",
    "    print(f\"Output file '{output_path}' already exists!\")\n",
    "print()"
   ]
  },
  {
   "cell_type": "markdown",
   "id": "39a4e5f3-4bf4-4bfe-bb62-76e38d48a744",
   "metadata": {},
   "source": [
    "# Evaluate CONLL score on the test dataset"
   ]
  },
  {
   "cell_type": "code",
   "execution_count": 10,
   "id": "e945b20e-135b-4676-a02e-376f371d9390",
   "metadata": {},
   "outputs": [
    {
     "name": "stdout",
     "output_type": "stream",
     "text": [
      "/home/rajk/Machine_Learning/m2scorer\n",
      "Precision   : 0.4091\n",
      "Recall      : 0.0285\n",
      "F_0.5       : 0.1114\n",
      "/home/rajk/Machine_Learning/DRL-GEC/notebooks\n"
     ]
    }
   ],
   "source": [
    "cwd = os.getcwd()\n",
    "%cd $conll_repo_path\n",
    "!./m2scorer -v $output_path $data_path > $score_path\n",
    "!tail -3 $score_path\n",
    "%cd $cwd"
   ]
  },
  {
   "cell_type": "code",
   "execution_count": null,
   "id": "a96dd503-ce2b-4fc4-ba24-eec908653855",
   "metadata": {},
   "outputs": [],
   "source": []
  }
 ],
 "metadata": {
  "kernelspec": {
   "display_name": "drl-gec",
   "language": "python",
   "name": "drl-gec"
  },
  "language_info": {
   "codemirror_mode": {
    "name": "ipython",
    "version": 3
   },
   "file_extension": ".py",
   "mimetype": "text/x-python",
   "name": "python",
   "nbconvert_exporter": "python",
   "pygments_lexer": "ipython3",
   "version": "3.8.13"
  }
 },
 "nbformat": 4,
 "nbformat_minor": 5
}
