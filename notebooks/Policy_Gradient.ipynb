{
 "cells": [
  {
   "cell_type": "code",
   "execution_count": 1,
   "id": "beb33fda-5655-4da4-a91f-b184a5fbc47c",
   "metadata": {},
   "outputs": [],
   "source": [
    "import os\n",
    "import gym\n",
    "import math\n",
    "import torch\n",
    "import numpy as np\n",
    "from typing import List\n",
    "from tqdm.auto import tqdm\n",
    "from datetime import datetime\n",
    "from collections import defaultdict\n",
    "from torch.distributions import Categorical\n",
    "from torch.utils.tensorboard import SummaryWriter\n",
    "from nltk.translate.gleu_score import sentence_gleu"
   ]
  },
  {
   "cell_type": "code",
   "execution_count": 2,
   "id": "34a22b63-5b2e-4435-bcd0-afc226226297",
   "metadata": {},
   "outputs": [],
   "source": [
    "os.environ[\"TOKENIZERS_PARALLELISM\"] = \"false\""
   ]
  },
  {
   "cell_type": "code",
   "execution_count": 3,
   "id": "3a672e0a-5dba-44a9-a17a-b2be81831902",
   "metadata": {},
   "outputs": [
    {
     "name": "stdout",
     "output_type": "stream",
     "text": [
      "/home/rajk/Machine_Learning/DRL-GEC\n",
      "/home/rajk/Machine_Learning/DRL-GEC/notebooks\n"
     ]
    }
   ],
   "source": [
    "%cd ..\n",
    "import src.envs\n",
    "from src.search import search_best_actions\n",
    "from src.utils import remove_ansi, iterative_prediction, stack_padding, load_json, write_json, discount_cumsum, freeze_params, scale, is_gce_instance, load_model\n",
    "%cd notebooks"
   ]
  },
  {
   "cell_type": "code",
   "execution_count": 4,
   "id": "3efedd5e-beb3-4d49-90af-0689b133b81c",
   "metadata": {},
   "outputs": [],
   "source": [
    "device = torch.device(\"cuda:0\" if torch.cuda.is_available() else \"cpu\")"
   ]
  },
  {
   "cell_type": "code",
   "execution_count": 5,
   "id": "2e8527e3-74e6-49bf-b43e-3e3696e746df",
   "metadata": {},
   "outputs": [],
   "source": [
    "@torch.no_grad()\n",
    "def select_action(policy, state, reference, mask_generator, explore=False):\n",
    "    [logits] = policy([state])\n",
    "    dist = Categorical(logits=logits)\n",
    "    action_np = search_best_actions(policy, state, reference, mask_generator, explore=explore)\n",
    "    action = torch.from_numpy(action_np).to(logits.device)\n",
    "    log_pi = dist.log_prob(action)\n",
    "    return action_np, log_pi, dist.entropy()\n",
    "\n",
    "def get_log_pi(policy, states, actions):\n",
    "    logits = policy(states)\n",
    "    dist = Categorical(logits=logits)\n",
    "    actions = stack_padding(actions, dtype=\"float32\")\n",
    "    actions = torch.from_numpy(actions).to(logits.device)\n",
    "    # Obtain mask of the non-padded tokens\n",
    "    batch_size, seq_len, label_size = logits.shape\n",
    "    mask = torch.zeros((batch_size, seq_len), dtype=torch.bool, device=logits.device)\n",
    "    for i, state in enumerate(states):\n",
    "        mask[i, :len(state)] = True\n",
    "    log_pis = dist.log_prob(actions)\n",
    "    log_pis = log_pis*mask                     # Set padded tokens' log_pis to zero\n",
    "    return log_pis"
   ]
  },
  {
   "cell_type": "code",
   "execution_count": 6,
   "id": "007aee43-ac6c-4063-bddb-ede6ed385a91",
   "metadata": {},
   "outputs": [],
   "source": [
    "def get_evaluator(data_path, label_vocab, num_iterations=10):\n",
    "    json_data = load_json(data_path)\n",
    "    src_ref = ((data_dict[\"text\"], data_dict[\"references\"]) for data_dict in json_data) \n",
    "    sources, references = zip(*src_ref)\n",
    "    print(f\"Number of evaluation examples: {len(sources)}\")\n",
    "    del json_data\n",
    "    \n",
    "    def eval_func(policy):\n",
    "        policy.eval()\n",
    "        predictions = iterative_prediction(policy, label_vocab, sources, num_iter=num_iterations, insert_start=True, verbose=False)\n",
    "        score = np.mean([sentence_gleu(refs, pred) for refs, pred in zip(references, predictions)])\n",
    "        policy.train()\n",
    "        return score\n",
    "    \n",
    "    return eval_func"
   ]
  },
  {
   "cell_type": "code",
   "execution_count": 7,
   "id": "93138e1e-97d4-4f37-80bf-63df9b8d3653",
   "metadata": {},
   "outputs": [],
   "source": [
    "def train(pbar, optim, grad_scaler, policy, buffer, batch_size=32, focal_alpha=0.25, focal_gamma=2.0):\n",
    "    num_items = len(buffer[\"return\"])\n",
    "    accumulation_size = math.ceil(num_items/batch_size)\n",
    "    # Set up the progress bar\n",
    "    pbar.reset()\n",
    "    pbar.total = num_items\n",
    "    buffer[\"return\"] = torch.tensor(buffer[\"return\"], device=device)\n",
    "    losses = []\n",
    "    optim.zero_grad()\n",
    "    for i in range(0, num_items, batch_size):\n",
    "        state_batch = buffer[\"state\"][i:i+batch_size]\n",
    "        action_batch = buffer[\"action\"][i:i+batch_size]\n",
    "        return_batch = buffer[\"return\"][i:i+batch_size]\n",
    "        log_pis = get_log_pi(policy, state_batch, action_batch)\n",
    "        focal_coef = focal_alpha*(1-log_pis.exp()).pow(focal_gamma)\n",
    "        seq_log_pis = (focal_coef*log_pis).sum(-1)                             # Sum log_probs over tokens\n",
    "        pi_loss = -(seq_log_pis*return_batch).mean()\n",
    "        grad_scaler.scale(pi_loss/accumulation_size).backward()\n",
    "        losses.append(pi_loss)\n",
    "        pbar.update(len(state_batch))\n",
    "    grad_scaler.step(optim)\n",
    "    grad_scaler.update()\n",
    "    pbar.refresh()\n",
    "    return torch.stack(losses).mean().item()"
   ]
  },
  {
   "cell_type": "markdown",
   "id": "04042a3f-a9d1-4761-8497-7e65b06b985e",
   "metadata": {
    "tags": []
   },
   "source": [
    "# Define parameters"
   ]
  },
  {
   "cell_type": "code",
   "execution_count": 8,
   "id": "97011ba3-ffe0-4c45-818c-1cabeb05f304",
   "metadata": {},
   "outputs": [],
   "source": [
    "# Algorithm parameters\n",
    "eps = 0.5\n",
    "min_eps = 0.5\n",
    "eps_decay = 0.999996\n",
    "gamma = 0.9\n",
    "focal_alpha = 0.25\n",
    "focal_gamma = 2.0\n",
    "# Training parameters\n",
    "cold_lr = 1e-3\n",
    "warm_lr = 1e-5\n",
    "lr = cold_lr\n",
    "batch_size = 32\n",
    "update_interval = 500\n",
    "num_unfreeze_layers = 0            # Unfreeze only the last 98 layers\n",
    "dropout = 0.1\n",
    "weight_decay = 0.0\n",
    "episodes = 200_000\n",
    "cold_episodes = 0 # 20_000\n",
    "# Evaluation parameters\n",
    "eval_max_iter = 10\n",
    "evaluate_interval = 10_000\n",
    "record_output_interval = 10\n",
    "dev_data_path = r\"../data/processed/wi+locness/dev.json\"\n",
    "model_path = \"sl_logs/pretrain_synthetic_31:10:2022_19:25/model-best.pt\"\n",
    "train_type = \"pretrain\" if model_path is None else \"finetune\"\n",
    "current_datetime = datetime.now().strftime(\"%d_%m_%Y_%H:%M\")\n",
    "log_dir = os.path.join(\"pg_logs_final\", f\"{train_type}_rl_{current_datetime}\")\n",
    "env_kwargs = {\n",
    "    \"id\": \"gec_lev_dist-v1\",\n",
    "    \"datasets\": [\"wi+locness\"],                  # Datasets to load\n",
    "    \"correct_examples_percent\": [1.0],           # Percentage of correct sentences to load\n",
    "    \"reward_config\": {\n",
    "        \"scale\": 1.0,\n",
    "        \"correct\": 1.0,\n",
    "        \"fn_penalty\": 0.0,\n",
    "        \"out_of_range_penalty\": -2.0,\n",
    "    },\n",
    "}\n",
    "meta_data = {\n",
    "    \"base_model\": model_path,\n",
    "    \"env_config\": env_kwargs,\n",
    "    \"description\": \"\"\"\n",
    "    Finetune the FL (2M) pretrained model. \n",
    "    Dataset has no unsolvable examples.\n",
    "    Dropout enabled.\n",
    "    positive reward for success; episodes ends when all keep predicted for correct sentence\n",
    "    Don't shuffle batches.\n",
    "    Explore-Exploit determined per episode.\n",
    "    Label = UKNONWN if len(candidate_labels) == 0\n",
    "    Label = candidate_labels[0] if len(candidate_labels) == 1\n",
    "    Check all append for insert edit + [keep]\n",
    "    Check all labels for candidate labels for replace edits + [keep]\n",
    "    Expoit = sample from candidate_probs\n",
    "    Explore = Sample from candidate_lev_probs\n",
    "    No return rescaling\n",
    "    Early termination for false negative too.\n",
    "    eval_max_iter set from 5 to 10.\n",
    "    \"\"\"\n",
    "}"
   ]
  },
  {
   "cell_type": "markdown",
   "id": "29ba8b9f-7c68-42d6-8a2d-1f5a3bb4e898",
   "metadata": {},
   "source": [
    "# Load environment"
   ]
  },
  {
   "cell_type": "code",
   "execution_count": 9,
   "id": "4ce26c80-923b-4c86-a5d2-279ce6bb593b",
   "metadata": {},
   "outputs": [
    {
     "name": "stderr",
     "output_type": "stream",
     "text": [
      "/home/rajk/miniconda3/envs/drl-gec/lib/python3.8/site-packages/gym/envs/registration.py:593: UserWarning: \u001b[33mWARN: The environment gec_lev_dist-v1 is out of date. You should consider upgrading to version `v2`.\u001b[0m\n",
      "  logger.warn(\n"
     ]
    },
    {
     "name": "stdout",
     "output_type": "stream",
     "text": [
      "Original number of data in wi+locness: 24734\n",
      "Number of data without correct sentences: 24734\n"
     ]
    }
   ],
   "source": [
    "env = gym.make(new_step_api=True, **env_kwargs)"
   ]
  },
  {
   "cell_type": "markdown",
   "id": "7aece764-53dd-45e1-8972-1387200f9010",
   "metadata": {},
   "source": [
    "# Load the models"
   ]
  },
  {
   "cell_type": "code",
   "execution_count": 10,
   "id": "eda32f0a-611a-4420-a32d-ae7e141d98d2",
   "metadata": {},
   "outputs": [
    {
     "name": "stderr",
     "output_type": "stream",
     "text": [
      "Some weights of the model checkpoint at roberta-base were not used when initializing RobertaModel: ['lm_head.dense.weight', 'lm_head.bias', 'lm_head.dense.bias', 'roberta.pooler.dense.bias', 'lm_head.decoder.weight', 'lm_head.layer_norm.bias', 'roberta.pooler.dense.weight', 'lm_head.layer_norm.weight']\n",
      "- This IS expected if you are initializing RobertaModel from the checkpoint of a model trained on another task or with another architecture (e.g. initializing a BertForSequenceClassification model from a BertForPreTraining model).\n",
      "- This IS NOT expected if you are initializing RobertaModel from the checkpoint of a model that you expect to be exactly identical (initializing a BertForSequenceClassification model from a BertForSequenceClassification model).\n"
     ]
    },
    {
     "name": "stdout",
     "output_type": "stream",
     "text": [
      "Number of evaluation examples: 3590\n"
     ]
    }
   ],
   "source": [
    "model_name = \"roberta-base\"\n",
    "tokenizer_config = {\"use_fast\": True}\n",
    "transformer_config = {\"output_attentions\": False}\n",
    "policy = load_model(\n",
    "    model_name = model_name, \n",
    "    model_path = model_path, \n",
    "    num_labels = env.action_space.n,\n",
    "    tokenizer_config = tokenizer_config, \n",
    "    transformer_config = transformer_config, \n",
    "    local_files_only = True,\n",
    ").to(device)\n",
    "optim = torch.optim.Adam(policy.parameters(), lr=lr, weight_decay=weight_decay)\n",
    "grad_scaler = torch.cuda.amp.GradScaler()\n",
    "writer = SummaryWriter(log_dir=log_dir)\n",
    "evaluator = get_evaluator(dev_data_path, env.labels, eval_max_iter)\n",
    "write_json(os.path.join(log_dir, \"meta.json\"), meta_data)"
   ]
  },
  {
   "cell_type": "markdown",
   "id": "6b15645f-54a0-4585-ad37-b13ab102ba87",
   "metadata": {
    "tags": []
   },
   "source": [
    "# Train the model"
   ]
  },
  {
   "cell_type": "code",
   "execution_count": 11,
   "id": "0cb6e569-e47a-478b-8d31-4c9a63bba9ca",
   "metadata": {
    "tags": []
   },
   "outputs": [
    {
     "name": "stdout",
     "output_type": "stream",
     "text": [
      "Number of frozen parameters: 197/197\n"
     ]
    },
    {
     "data": {
      "application/vnd.jupyter.widget-view+json": {
       "model_id": "3684618e53de46a9b5895cabfe3cf507",
       "version_major": 2,
       "version_minor": 0
      },
      "text/plain": [
       "Training Episodes:   0%|          | 0/200000 [00:00<?, ?it/s]"
      ]
     },
     "metadata": {},
     "output_type": "display_data"
    },
    {
     "name": "stdout",
     "output_type": "stream",
     "text": [
      "Number of frozen parameters: 0/197\n"
     ]
    },
    {
     "name": "stderr",
     "output_type": "stream",
     "text": [
      "/home/rajk/miniconda3/envs/drl-gec/lib/python3.8/site-packages/gym/utils/passive_env_checker.py:133: UserWarning: \u001b[33mWARN: The obs returned by the `reset()` method should be an int or np.int64, actual type: <class 'list'>\u001b[0m\n",
      "  logger.warn(f\"{pre} should be an int or np.int64, actual type: {type(obs)}\")\n",
      "/home/rajk/miniconda3/envs/drl-gec/lib/python3.8/site-packages/gym/utils/passive_env_checker.py:165: UserWarning: \u001b[33mWARN: The obs returned by the `reset()` method is not within the observation space.\u001b[0m\n",
      "  logger.warn(f\"{pre} is not within the observation space.\")\n",
      "/home/rajk/miniconda3/envs/drl-gec/lib/python3.8/site-packages/gym/utils/passive_env_checker.py:227: DeprecationWarning: \u001b[33mWARN: Core environment is written in old step API which returns one bool instead of two. It is recommended to rewrite the environment with new step API. \u001b[0m\n",
      "  logger.deprecation(\n",
      "/home/rajk/miniconda3/envs/drl-gec/lib/python3.8/site-packages/gym/utils/passive_env_checker.py:133: UserWarning: \u001b[33mWARN: The obs returned by the `step()` method should be an int or np.int64, actual type: <class 'list'>\u001b[0m\n",
      "  logger.warn(f\"{pre} should be an int or np.int64, actual type: {type(obs)}\")\n",
      "/home/rajk/miniconda3/envs/drl-gec/lib/python3.8/site-packages/gym/utils/passive_env_checker.py:165: UserWarning: \u001b[33mWARN: The obs returned by the `step()` method is not within the observation space.\u001b[0m\n",
      "  logger.warn(f\"{pre} is not within the observation space.\")\n",
      "/home/rajk/miniconda3/envs/drl-gec/lib/python3.8/site-packages/gym/core.py:57: DeprecationWarning: \u001b[33mWARN: You are calling render method, but you didn't specified the argument render_mode at environment initialization. To maintain backward compatibility, the environment will render in human mode.\n",
      "If you want to render in human mode, initialize the environment in this way: gym.make('EnvName', render_mode='human') and don't call the render method.\n",
      "See here for more information: https://www.gymlibrary.ml/content/api/\u001b[0m\n",
      "  deprecation(\n",
      "/home/rajk/miniconda3/envs/drl-gec/lib/python3.8/site-packages/gym/utils/passive_env_checker.py:297: UserWarning: \u001b[33mWARN: No render fps was declared in the environment (env.metadata['render_fps'] is None or not defined), rendering may occur at inconsistent fps.\u001b[0m\n",
      "  logger.warn(\n"
     ]
    },
    {
     "data": {
      "application/vnd.jupyter.widget-view+json": {
       "model_id": "e4a2790cdf1a408d8cf67c170443c46b",
       "version_major": 2,
       "version_minor": 0
      },
      "text/plain": [
       "Updating Policy: 0it [00:00, ?it/s]"
      ]
     },
     "metadata": {},
     "output_type": "display_data"
    }
   ],
   "source": [
    "policy.train()\n",
    "# Freeze encoder weights\n",
    "freeze_params(policy.encoder, requires_grad=False, optim=optim, lr=lr)\n",
    "# Log hyperparameters\n",
    "writer.add_scalar(\"hyperparameters/gamma\", gamma, 0)\n",
    "writer.add_scalar(\"hyperparameters/dropout\", dropout, 0)\n",
    "writer.add_scalar(\"hyperparameters/batch_size\", batch_size, 0)\n",
    "writer.add_scalar(\"hyperparameters/focal_alpha\", focal_alpha, 0)\n",
    "writer.add_scalar(\"hyperparameters/focal_gamma\", focal_gamma, 0)\n",
    "writer.add_scalar(\"hyperparameters/cold_episodes\", cold_episodes, 0)\n",
    "writer.add_scalar(\"hyperparameters/update_interval\", update_interval, 0)\n",
    "# Variables for training progress bars\n",
    "policy_pbar = None\n",
    "\n",
    "mask_generator = env.mask_generator\n",
    "max_eval_score = 0\n",
    "eval_score = evaluator(policy)\n",
    "writer.add_scalar(\"rl/eval_score\", eval_score, 1)\n",
    "buffer_dict = defaultdict(list)\n",
    "with torch.cuda.amp.autocast():\n",
    "    for episode in tqdm(range(1, episodes+1), desc=\"Training Episodes\", total=episodes):\n",
    "        if ((cold_episodes == 0) and (episode == 1)) or (episode == cold_episodes):                # When cold epoch ends, update learning rate and unfreeze certain encoder layers \n",
    "            lr = warm_lr\n",
    "            freeze_params(policy.encoder, requires_grad=True, num_layers=num_unfreeze_layers, optim=optim, lr=lr)\n",
    "        rewards = []\n",
    "        log_pis = []\n",
    "        entropies = []\n",
    "        token_lens = []\n",
    "        done = False\n",
    "        init_state = state = env.reset()\n",
    "        reference = env.current_reference\n",
    "        explore = np.random.uniform() < eps\n",
    "        while not done:\n",
    "            action, log_pi, entropy = select_action(policy, state, reference, mask_generator, explore=explore)\n",
    "            next_state, reward, terminated, truncated, info = env.step(action)\n",
    "            done = terminated or truncated\n",
    "            # Save timestep data\n",
    "            rewards.append(reward)\n",
    "            log_pis.append(log_pi)\n",
    "            entropies.append(entropy)\n",
    "            token_lens.append(len(next_state))\n",
    "            buffer_dict[\"state\"].append(state)\n",
    "            buffer_dict[\"action\"].append(action)\n",
    "            state = next_state\n",
    "    # Compute returns\n",
    "    returns = discount_cumsum(rewards, discount=gamma)\n",
    "    buffer_dict[\"return\"].extend(returns)\n",
    "    # eps = max(eps*eps_decay, min_eps)\n",
    "    # Train the model\n",
    "    if (episode % update_interval) == 0:\n",
    "        if policy_pbar is None:\n",
    "            policy_pbar = tqdm(desc=\"Updating Policy\")\n",
    "        loss = train(policy_pbar, optim, grad_scaler, policy, buffer_dict, batch_size=batch_size, focal_alpha=focal_alpha, focal_gamma=focal_gamma)\n",
    "        writer.add_scalar(\"rl/mean_loss\", loss, episode)\n",
    "        buffer_dict = defaultdict(list)\n",
    "        torch.cuda.empty_cache()\n",
    "    # Log the episode output to the tensorboard\n",
    "    if (episode % record_output_interval) == 0:\n",
    "        render_output = \"  \\n\".join(remove_ansi(out) for out in env.render())\n",
    "        writer.add_text(\"rl/output\", render_output, episode)\n",
    "    # Evaluate the model\n",
    "    if (episode % evaluate_interval) == 0:\n",
    "        eval_score = evaluator(policy)\n",
    "        if eval_score >= max_eval_score:\n",
    "            torch.save(policy.state_dict(), os.path.join(log_dir, \"model-best.pt\"))\n",
    "            max_eval_score = eval_score\n",
    "        writer.add_scalar(\"rl/eval_score\", eval_score, episode)\n",
    "    # Log scalar episode results\n",
    "    rewards = np.array(rewards)\n",
    "    writer.add_scalar(\"rl/lr\", lr, episode)\n",
    "    writer.add_scalar(\"rl/eps\", eps, episode)\n",
    "    writer.add_scalar(\"rl/explore\", explore, episode)\n",
    "    writer.add_scalar(\"rl/episode_length\", len(rewards), episode)\n",
    "    writer.add_scalar(\"rl/episode_reward_last\", rewards[-1], episode)\n",
    "    writer.add_scalar(\"rl/episode_reward_total\", sum(rewards), episode)\n",
    "    writer.add_scalar(\"rl/token_length_delta_ratio\", (len(state)-len(init_state))/len(init_state), episode)\n",
    "    # Log histogram episode results\n",
    "    writer.add_histogram(\"rl/episode_reward\", rewards, episode)\n",
    "    writer.add_histogram(\"rl/episode_returns\", returns, episode)\n",
    "    writer.add_histogram(\"rl/episode_log_pi\", torch.cat(log_pis), episode)\n",
    "    writer.add_histogram(\"rl/episode_entropy\", torch.cat(entropies), episode)\n",
    "    writer.add_histogram(\"rl/episode_token_length\", np.array(token_lens), episode)\n",
    "    writer.add_histogram(\"rl/episode_returns_normalized\", np.array(scale(returns)), episode)"
   ]
  },
  {
   "cell_type": "markdown",
   "id": "f917beb2-bc40-477e-b3e7-9402ceef4692",
   "metadata": {
    "tags": []
   },
   "source": [
    "# Save model"
   ]
  },
  {
   "cell_type": "code",
   "execution_count": 12,
   "id": "065d550f-56a6-4eaf-bb21-649a5d718a1b",
   "metadata": {},
   "outputs": [],
   "source": [
    "torch.save(policy.state_dict(), os.path.join(log_dir, \"model-last.pt\"))"
   ]
  },
  {
   "cell_type": "markdown",
   "id": "9aa3edbc-25eb-4a35-be1a-0ca26befc9dd",
   "metadata": {},
   "source": [
    "policy.load_state_dict(torch.load(os.path.join(log_dir, \"model-best.pt\")))"
   ]
  },
  {
   "cell_type": "markdown",
   "id": "b0cd3700-01af-472b-a33c-93bbb23e62dd",
   "metadata": {},
   "source": [
    "# Test model"
   ]
  },
  {
   "cell_type": "code",
   "execution_count": 13,
   "id": "c8454cfc-e75e-4b1b-8564-91f2c811d647",
   "metadata": {},
   "outputs": [],
   "source": [
    "@torch.no_grad()\n",
    "def greedy_action(policy, state):\n",
    "    [logits] = policy([state])\n",
    "    v, i = logits.topk(5)\n",
    "    v = v.cpu().numpy()\n",
    "    i = i.cpu().numpy()\n",
    "    dist = Categorical(logits=logits)\n",
    "    probs = dist.probs\n",
    "    entropy = dist.entropy().cpu().numpy()\n",
    "    for a, e, lp in zip(state, entropy, zip(env.labels[i], v)):\n",
    "        print(f\"{e:4f}, {a:15}\", \" -- \".join(f\"{l} [{p:5.2f}]\" for (l, p) in zip(*lp)))\n",
    "    print()\n",
    "    action = logits.argmax(axis=-1)\n",
    "    # action = Categorical(logits=logits).sample()\n",
    "    return action.cpu().numpy()"
   ]
  },
  {
   "cell_type": "code",
   "execution_count": 14,
   "id": "cbf4c3f7-91f0-4340-b30a-a21efe93fca6",
   "metadata": {},
   "outputs": [],
   "source": [
    "_ = policy.eval()          # Set poliy to eval mode to disable dropouts"
   ]
  },
  {
   "cell_type": "code",
   "execution_count": 15,
   "id": "51f01563-aea0-41d5-98c2-0e63f8cec77a",
   "metadata": {},
   "outputs": [
    {
     "name": "stdout",
     "output_type": "stream",
     "text": [
      "Original number of data in wi+locness: 24734\n",
      "Number of data without correct sentences: 15413\n"
     ]
    }
   ],
   "source": [
    "env = gym.make(\"gec_lev_dist-v2\", datasets=[\"wi+locness\"], new_step_api=True, correct_examples_percent=[0.0], repeat=1)"
   ]
  },
  {
   "cell_type": "code",
   "execution_count": 18,
   "id": "f31a90a3-3021-4443-81af-e857a1f81e0e",
   "metadata": {
    "tags": []
   },
   "outputs": [
    {
     "name": "stdout",
     "output_type": "stream",
     "text": [
      "# References\n",
      "['$START', 'He', 'has', 'been', 'one', 'of', 'the', 'players', 'of', 'basketball', 'from', 'when', 'he', 'was', 'an', 'elementary', 'student', 'until', 'now', 'he', \"'s\", 'in', 'college', '.']\n",
      "\n",
      "0.534045, $START          $KEEP [10.02] -- $APPEND_But [ 5.73] -- $APPEND_The [ 4.94] -- $DELETE [ 4.76] -- $APPEND_He [ 4.60]\n",
      "0.902089, He              $KEEP [ 9.53] -- $APPEND_has [ 7.14] -- $DELETE [ 6.24] -- $REPLACE_He [ 5.91] -- $APPEND_had [ 5.63]\n",
      "2.138970, is              $APPEND_been [ 8.63] -- $KEEP [ 8.02] -- $REPLACE_been [ 7.83] -- $REPLACE_has [ 7.83] -- $REPLACE_was [ 7.60]\n",
      "0.878942, one             $KEEP [ 9.14] -- $DELETE [ 6.65] -- $APPEND_been [ 4.64] -- $REPLACE_been [ 4.13] -- $REPLACE_one [ 3.12]\n",
      "0.516260, of              $KEEP [ 9.62] -- $DELETE [ 7.10] -- $APPEND_the [ 4.19] -- $APPEND_of [ 3.22] -- $APPEND_been [ 2.70]\n",
      "1.224080, the             $KEEP [ 9.80] -- $DELETE [ 6.63] -- $APPEND_good [ 5.83] -- $APPEND_first [ 5.20] -- $APPEND_last [ 4.80]\n",
      "1.166492, players         $KEEP [ 9.44] -- $DELETE [ 6.59] -- $REPLACE_stars [ 6.33] -- $APPEND_good [ 4.90] -- $REPLACE_players [ 4.10]\n",
      "1.226571, of              $KEEP [ 8.26] -- $DELETE [ 5.93] -- $REPLACE_in [ 5.53] -- $APPEND_in [ 4.80] -- $APPEND_for [ 3.07]\n",
      "0.734481, basketball      $KEEP [ 9.11] -- $DELETE [ 5.19] -- $APPEND_, [ 4.31] -- $APPEND_have [ 4.02] -- $APPEND_ever [ 3.77]\n",
      "0.649824, since           $KEEP [ 9.16] -- $DELETE [ 6.82] -- $REPLACE_when [ 4.27] -- $REPLACE_since [ 4.17] -- $APPEND_since [ 3.45]\n",
      "0.430059, he              $KEEP [ 9.54] -- $DELETE [ 6.04] -- $REPLACE_he [ 5.50] -- $APPEND_he [ 4.48] -- $TRANSFORM_CASE_CAPITAL [ 3.56]\n",
      "0.396063, was             $KEEP [ 9.90] -- $DELETE [ 6.41] -- $APPEND_as [ 4.72] -- $APPEND_was [ 4.63] -- $REPLACE_was [ 3.87]\n",
      "0.379433, an              $KEEP [ 9.64] -- $DELETE [ 6.68] -- $REPLACE_an [ 4.69] -- $APPEND_an [ 4.30] -- $APPEND_old [ 3.40]\n",
      "0.657542, elementary      $KEEP [ 9.76] -- $DELETE [ 7.32] -- $TRANSFORM_CASE_CAPITAL [ 4.44] -- $REPLACE_young [ 4.26] -- $REPLACE_primary [ 3.64]\n",
      "1.097803, student         $KEEP [ 9.56] -- $APPEND_, [ 8.43] -- $APPEND_and [ 6.80] -- $APPEND_; [ 6.18] -- $DELETE [ 5.18]\n",
      "1.789494, until           $KEEP [ 8.36] -- $DELETE [ 7.31] -- $REPLACE_; [ 5.62] -- $APPEND_; [ 4.94] -- $APPEND_, [ 4.93]\n",
      "1.258326, now             $KEEP [ 8.92] -- $DELETE [ 7.20] -- $APPEND_, [ 6.51] -- $APPEND_. [ 5.31] -- $APPEND_; [ 5.05]\n",
      "0.869664, he              $KEEP [ 8.98] -- $DELETE [ 7.00] -- $REPLACE_he [ 5.58] -- $TRANSFORM_CASE_CAPITAL [ 4.80] -- $APPEND_he [ 4.29]\n",
      "1.337733, 's              $KEEP [ 8.83] -- $DELETE [ 6.91] -- $REPLACE_is [ 4.99] -- $APPEND_been [ 4.93] -- $APPEND_is [ 4.61]\n",
      "2.120269, on              $REPLACE_in [ 8.73] -- $APPEND_in [ 7.81] -- $DELETE [ 7.57] -- $KEEP [ 6.97] -- $REPLACE_at [ 6.37]\n",
      "1.004000, college         $KEEP [ 8.52] -- $DELETE [ 5.28] -- $APPEND_. [ 3.31] -- $APPEND_, [ 3.07] -- $APPEND_studying [ 2.70]\n",
      "0.327743, .               $KEEP [ 9.81] -- $DELETE [ 5.33] -- $APPEND_. [ 4.96] -- $APPEND_\" [ 4.69] -- $REPLACE_! [ 4.14]\n",
      "\n",
      "\u001b[37;1mTimestep:\u001b[0m 0  \n",
      "\u001b[37;1mRewards:\u001b[0m 0.000  \n",
      "\u001b[37;1mSource:\u001b[0m $START He is one of the players of basketball since he was an elementary student until now he 's on college .  \n",
      "\u001b[37;1mOutput:\u001b[0m $START He is one of the players of basketball since he was an elementary student until now he 's on college .  \n",
      "\n",
      "\u001b[37;1mTimestep:\u001b[0m 1  \n",
      "\u001b[37;1mRewards:\u001b[0m 0.300  \n",
      "\u001b[37;1mSource:\u001b[0m $START He \u001b[32;1mis\u001b[0m [\u001b[31;1m$APPEND_been\u001b[0m] one of the players of basketball since he was an elementary student until now he 's \u001b[32;1mon\u001b[0m [\u001b[31;1m$REPLACE_in\u001b[0m] college .  \n",
      "\u001b[37;1mOutput:\u001b[0m $START He is been one of the players of basketball since he was an elementary student until now he 's in college .  \n",
      "\n",
      "0.474666, $START          $KEEP [10.32] -- $APPEND_But [ 6.18] -- $APPEND_The [ 4.96] -- $DELETE [ 4.67] -- $APPEND_He [ 4.67]\n",
      "0.769733, He              $KEEP [ 9.45] -- $DELETE [ 6.86] -- $REPLACE_He [ 5.89] -- $APPEND_has [ 5.33] -- $MERGE_SPACE [ 3.94]\n",
      "1.590517, is              $REPLACE_has [ 9.42] -- $DELETE [ 8.24] -- $KEEP [ 7.97] -- $REPLACE_'s [ 7.74] -- $APPEND_has [ 6.87]\n",
      "0.984322, been            $KEEP [ 9.13] -- $APPEND_been [ 7.09] -- $DELETE [ 6.71] -- $REPLACE_was [ 5.03] -- $REPLACE_been [ 4.72]\n",
      "0.691988, one             $KEEP [ 9.53] -- $DELETE [ 7.35] -- $REPLACE_one [ 4.60] -- $REPLACE_part [ 3.97] -- $APPEND_one [ 3.29]\n",
      "0.425986, of              $KEEP [ 9.98] -- $DELETE [ 7.34] -- $APPEND_the [ 4.77] -- $APPEND_of [ 3.73] -- $REPLACE_of [ 3.51]\n",
      "1.174720, the             $KEEP [ 9.98] -- $APPEND_good [ 6.70] -- $DELETE [ 6.56] -- $APPEND_most [ 5.33] -- $APPEND_first [ 5.32]\n",
      "1.156052, players         $KEEP [ 9.47] -- $DELETE [ 6.89] -- $REPLACE_stars [ 6.04] -- $APPEND_good [ 5.51] -- $APPEND_' [ 4.51]\n",
      "1.288318, of              $KEEP [ 8.33] -- $DELETE [ 6.20] -- $REPLACE_in [ 6.12] -- $APPEND_in [ 5.13] -- $REPLACE_for [ 3.33]\n",
      "0.695272, basketball      $KEEP [ 9.14] -- $DELETE [ 5.43] -- $APPEND_ever [ 3.68] -- $APPEND_, [ 3.50] -- $TRANSFORM_AGREEMENT_PLURAL [ 3.33]\n",
      "0.399843, since           $KEEP [ 9.71] -- $DELETE [ 6.58] -- $REPLACE_when [ 4.48] -- $REPLACE_since [ 3.75] -- $APPEND_when [ 3.46]\n",
      "0.349976, he              $KEEP [ 9.70] -- $DELETE [ 5.85] -- $REPLACE_he [ 5.53] -- $APPEND_he [ 4.12] -- $TRANSFORM_CASE_CAPITAL [ 3.11]\n",
      "0.345450, was             $KEEP [ 9.98] -- $DELETE [ 6.16] -- $APPEND_was [ 4.62] -- $APPEND_as [ 4.57] -- $APPEND_still [ 3.73]\n",
      "0.398338, an              $KEEP [ 9.69] -- $DELETE [ 6.81] -- $REPLACE_an [ 4.96] -- $APPEND_an [ 4.22] -- $APPEND_old [ 3.55]\n",
      "0.722211, elementary      $KEEP [ 9.71] -- $DELETE [ 7.39] -- $TRANSFORM_CASE_CAPITAL [ 4.56] -- $REPLACE_young [ 4.17] -- $REPLACE_primary [ 3.87]\n",
      "1.038280, student         $KEEP [ 9.61] -- $APPEND_, [ 8.56] -- $APPEND_and [ 6.73] -- $APPEND_; [ 5.48] -- $DELETE [ 5.30]\n",
      "1.536210, until           $KEEP [ 8.57] -- $DELETE [ 7.04] -- $APPEND_, [ 5.30] -- $APPEND_and [ 5.29] -- $REPLACE_; [ 5.21]\n",
      "1.257775, now             $KEEP [ 8.84] -- $DELETE [ 7.22] -- $APPEND_, [ 6.47] -- $APPEND_. [ 5.01] -- $APPEND_; [ 4.76]\n",
      "0.932361, he              $KEEP [ 8.89] -- $DELETE [ 7.07] -- $REPLACE_he [ 6.10] -- $TRANSFORM_CASE_CAPITAL [ 4.86] -- $APPEND_he [ 4.07]\n",
      "1.095585, 's              $KEEP [ 8.82] -- $DELETE [ 6.47] -- $REPLACE_is [ 5.57] -- $APPEND_been [ 4.55] -- $APPEND_is [ 4.44]\n",
      "0.658341, in              $KEEP [ 9.25] -- $DELETE [ 6.76] -- $REPLACE_at [ 5.31] -- $REPLACE_into [ 4.56] -- $APPEND_a [ 3.94]\n",
      "0.588933, college         $KEEP [ 8.97] -- $DELETE [ 4.68] -- $APPEND_, [ 3.83] -- $APPEND_. [ 3.55] -- $APPEND_now [ 3.00]\n",
      "0.301142, .               $KEEP [ 9.98] -- $DELETE [ 5.29] -- $APPEND_\" [ 5.03] -- $APPEND_. [ 4.83] -- $REPLACE_! [ 4.41]\n",
      "\n",
      "\u001b[37;1mTimestep:\u001b[0m 2  \n",
      "\u001b[37;1mRewards:\u001b[0m 0.200  \n",
      "\u001b[37;1mSource:\u001b[0m $START He \u001b[32;1mis\u001b[0m [\u001b[31;1m$REPLACE_has\u001b[0m] been one of the players of basketball since he was an elementary student until now he 's in college .  \n",
      "\u001b[37;1mOutput:\u001b[0m $START He has been one of the players of basketball since he was an elementary student until now he 's in college .  \n",
      "\n",
      "0.385395, $START          $KEEP [10.44] -- $APPEND_But [ 6.19] -- $APPEND_The [ 4.64] -- $DELETE [ 4.63] -- $APPEND_Now [ 4.54]\n",
      "0.658819, He              $KEEP [ 9.63] -- $REPLACE_He [ 6.74] -- $DELETE [ 6.41] -- $MERGE_SPACE [ 4.02] -- $APPEND_he [ 3.99]\n",
      "1.024182, has             $KEEP [ 9.37] -- $DELETE [ 7.65] -- $REPLACE_has [ 6.38] -- $REPLACE_had [ 6.12] -- $APPEND_has [ 4.62]\n",
      "0.545886, been            $KEEP [ 9.69] -- $DELETE [ 6.58] -- $APPEND_been [ 6.33] -- $REPLACE_been [ 4.88] -- $REPLACE_was [ 3.84]\n",
      "0.616711, one             $KEEP [ 9.74] -- $DELETE [ 7.06] -- $REPLACE_one [ 4.71] -- $REPLACE_part [ 4.24] -- $APPEND_one [ 3.81]\n",
      "0.449158, of              $KEEP [ 9.97] -- $DELETE [ 7.33] -- $APPEND_the [ 5.21] -- $APPEND_of [ 3.48] -- $REPLACE_of [ 3.27]\n",
      "1.260250, the             $KEEP [ 9.93] -- $DELETE [ 6.55] -- $APPEND_good [ 6.50] -- $APPEND_most [ 5.51] -- $APPEND_first [ 5.33]\n",
      "1.261945, players         $KEEP [ 9.38] -- $DELETE [ 7.06] -- $REPLACE_stars [ 5.96] -- $APPEND_good [ 5.34] -- $APPEND_' [ 4.39]\n",
      "1.352865, of              $KEEP [ 8.29] -- $DELETE [ 6.34] -- $REPLACE_in [ 6.26] -- $APPEND_in [ 5.16] -- $REPLACE_for [ 3.46]\n",
      "0.688065, basketball      $KEEP [ 9.16] -- $DELETE [ 5.55] -- $APPEND_, [ 3.72] -- $APPEND_ever [ 3.67] -- $TRANSFORM_AGREEMENT_PLURAL [ 3.47]\n",
      "0.359946, since           $KEEP [ 9.87] -- $DELETE [ 6.42] -- $REPLACE_when [ 4.75] -- $REPLACE_since [ 3.91] -- $APPEND_when [ 3.73]\n",
      "0.336626, he              $KEEP [ 9.73] -- $DELETE [ 5.75] -- $REPLACE_he [ 5.52] -- $APPEND_he [ 4.21] -- $APPEND_was [ 3.19]\n",
      "0.363592, was             $KEEP [ 9.93] -- $DELETE [ 6.03] -- $APPEND_was [ 4.68] -- $APPEND_as [ 4.51] -- $APPEND_still [ 3.95]\n",
      "0.443335, an              $KEEP [ 9.65] -- $DELETE [ 6.95] -- $REPLACE_an [ 5.17] -- $APPEND_an [ 4.25] -- $APPEND_old [ 3.54]\n",
      "0.773638, elementary      $KEEP [ 9.69] -- $DELETE [ 7.50] -- $TRANSFORM_CASE_CAPITAL [ 4.54] -- $REPLACE_young [ 4.36] -- $REPLACE_primary [ 3.81]\n",
      "1.067316, student         $KEEP [ 9.51] -- $APPEND_, [ 8.64] -- $APPEND_and [ 6.57] -- $DELETE [ 5.39] -- $APPEND_; [ 5.37]\n",
      "1.634848, until           $KEEP [ 8.45] -- $DELETE [ 7.19] -- $APPEND_, [ 5.43] -- $REPLACE_; [ 5.23] -- $APPEND_and [ 5.16]\n",
      "1.241166, now             $KEEP [ 8.82] -- $DELETE [ 7.26] -- $APPEND_, [ 6.48] -- $APPEND_. [ 4.66] -- $APPEND_; [ 4.33]\n",
      "0.930904, he              $KEEP [ 8.86] -- $DELETE [ 6.99] -- $REPLACE_he [ 6.24] -- $TRANSFORM_CASE_CAPITAL [ 4.58] -- $APPEND_he [ 4.25]\n",
      "1.174952, 's              $KEEP [ 8.74] -- $DELETE [ 6.47] -- $REPLACE_is [ 5.70] -- $APPEND_is [ 4.59] -- $APPEND_been [ 4.48]\n",
      "0.667261, in              $KEEP [ 9.21] -- $DELETE [ 6.70] -- $REPLACE_at [ 5.24] -- $REPLACE_into [ 4.45] -- $APPEND_a [ 4.04]\n",
      "0.617017, college         $KEEP [ 8.95] -- $DELETE [ 4.73] -- $APPEND_, [ 3.80] -- $APPEND_. [ 3.50] -- $APPEND_now [ 2.92]\n",
      "0.299817, .               $KEEP [ 9.97] -- $DELETE [ 5.29] -- $APPEND_\" [ 4.94] -- $APPEND_. [ 4.74] -- $REPLACE_! [ 4.44]\n",
      "\n",
      "\u001b[37;1mTimestep:\u001b[0m \u001b[32;1m3\u001b[0m  \n",
      "\u001b[37;1mRewards:\u001b[0m -0.300  \n",
      "\u001b[37;1mSource:\u001b[0m $START He has been one of the players of basketball since he was an elementary student until now he 's in college .  \n",
      "\u001b[37;1mOutput:\u001b[0m $START He has been one of the players of basketball since he was an elementary student until now he 's in college .  \n",
      "\n"
     ]
    }
   ],
   "source": [
    "state = env.reset()\n",
    "print(\"# References\")\n",
    "for ref in env.reference_tokens_list:\n",
    "    print(ref)\n",
    "print()\n",
    "done = False\n",
    "while not done:\n",
    "    action = greedy_action(policy, state)\n",
    "    next_state, reward, terminated, truncated, info = env.step(action)\n",
    "    done = terminated or truncated\n",
    "    state = next_state\n",
    "    outputs = env.render()\n",
    "    for o in outputs:\n",
    "        print(o)"
   ]
  },
  {
   "cell_type": "markdown",
   "id": "c8abb27f-8b2f-4a03-a92a-7fd68f15aaad",
   "metadata": {},
   "source": [
    "# Close Google Compute Instance"
   ]
  },
  {
   "cell_type": "code",
   "execution_count": 17,
   "id": "e60b4e5a-64f3-421e-9cd1-3d034ace64e0",
   "metadata": {},
   "outputs": [],
   "source": [
    "if is_gce_instance():\n",
    "    !gcloud compute instances stop drl-gec --zone us-west1-b"
   ]
  },
  {
   "cell_type": "code",
   "execution_count": null,
   "id": "3b75b268-8f2e-4ee0-bc24-bbec9c4d736b",
   "metadata": {},
   "outputs": [],
   "source": []
  }
 ],
 "metadata": {
  "kernelspec": {
   "display_name": "drl-gec",
   "language": "python",
   "name": "drl-gec"
  },
  "language_info": {
   "codemirror_mode": {
    "name": "ipython",
    "version": 3
   },
   "file_extension": ".py",
   "mimetype": "text/x-python",
   "name": "python",
   "nbconvert_exporter": "python",
   "pygments_lexer": "ipython3",
   "version": "3.8.13"
  }
 },
 "nbformat": 4,
 "nbformat_minor": 5
}
