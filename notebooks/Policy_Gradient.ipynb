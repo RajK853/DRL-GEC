{
 "cells": [
  {
   "cell_type": "code",
   "execution_count": 1,
   "id": "beb33fda-5655-4da4-a91f-b184a5fbc47c",
   "metadata": {},
   "outputs": [],
   "source": [
    "import os\n",
    "import gym\n",
    "import math\n",
    "import torch\n",
    "import numpy as np\n",
    "from typing import List\n",
    "from tqdm.auto import tqdm\n",
    "from datetime import datetime\n",
    "from collections import defaultdict\n",
    "from torch.distributions import Categorical\n",
    "from torch.utils.tensorboard import SummaryWriter\n",
    "from nltk.translate.gleu_score import sentence_gleu"
   ]
  },
  {
   "cell_type": "code",
   "execution_count": 2,
   "id": "34a22b63-5b2e-4435-bcd0-afc226226297",
   "metadata": {},
   "outputs": [],
   "source": [
    "os.environ[\"TOKENIZERS_PARALLELISM\"] = \"false\""
   ]
  },
  {
   "cell_type": "code",
   "execution_count": 3,
   "id": "3a672e0a-5dba-44a9-a17a-b2be81831902",
   "metadata": {},
   "outputs": [
    {
     "name": "stdout",
     "output_type": "stream",
     "text": [
      "/home/rajk/Machine_Learning/DRL-GEC\n",
      "/home/rajk/Machine_Learning/DRL-GEC/notebooks\n"
     ]
    }
   ],
   "source": [
    "%cd ..\n",
    "import src.envs\n",
    "from src.search import search_best_actions\n",
    "from src.models.seq2labels import PretrainedEncoder, Seq2Labels\n",
    "from src.utils import remove_ansi, iterative_prediction, load_json, write_json, discount_cumsum, freeze_params, scale, is_gce_instance\n",
    "%cd notebooks"
   ]
  },
  {
   "cell_type": "code",
   "execution_count": 4,
   "id": "3efedd5e-beb3-4d49-90af-0689b133b81c",
   "metadata": {},
   "outputs": [],
   "source": [
    "device = torch.device(\"cuda:0\" if torch.cuda.is_available() else \"cpu\")"
   ]
  },
  {
   "cell_type": "code",
   "execution_count": 5,
   "id": "2e8527e3-74e6-49bf-b43e-3e3696e746df",
   "metadata": {},
   "outputs": [],
   "source": [
    "@torch.no_grad()\n",
    "def select_action(policy, state, reference, mask_generator, explore=False):\n",
    "    [logits] = policy([state])\n",
    "    dist = Categorical(logits=logits)\n",
    "    action_np = search_best_actions(policy, state, reference, mask_generator, explore=explore)\n",
    "    action = torch.from_numpy(action_np).to(logits.device)\n",
    "    log_pi = dist.log_prob(action)\n",
    "    return action_np, log_pi, dist.entropy()\n",
    "\n",
    "def get_log_pi(policy, state, action):\n",
    "    [logits] = policy([state])\n",
    "    dist = Categorical(logits=logits)\n",
    "    action = torch.from_numpy(action).to(logits.device)\n",
    "    log_pi = dist.log_prob(action)\n",
    "    return log_pi"
   ]
  },
  {
   "cell_type": "code",
   "execution_count": 6,
   "id": "007aee43-ac6c-4063-bddb-ede6ed385a91",
   "metadata": {},
   "outputs": [],
   "source": [
    "def get_evaluator(data_path, label_vocab, num_iterations=10):\n",
    "    json_data = load_json(data_path)\n",
    "    src_ref = ((data_dict[\"text\"], data_dict[\"references\"]) for data_dict in json_data) \n",
    "    sources, references = zip(*src_ref)\n",
    "    print(f\"Number of evaluation examples: {len(sources)}\")\n",
    "    del json_data\n",
    "    \n",
    "    def eval_func(policy):\n",
    "        policy.eval()\n",
    "        predictions = iterative_prediction(policy, label_vocab, sources, num_iter=num_iterations, insert_start=True, verbose=False)\n",
    "        score = np.mean([sentence_gleu(refs, pred) for refs, pred in zip(references, predictions)])\n",
    "        policy.train()\n",
    "        return score\n",
    "    \n",
    "    return eval_func"
   ]
  },
  {
   "cell_type": "code",
   "execution_count": 7,
   "id": "93138e1e-97d4-4f37-80bf-63df9b8d3653",
   "metadata": {},
   "outputs": [],
   "source": [
    "def train(pbar, optim, grad_scaler, policy, buffer, batch_size=32, focal_alpha=0.25, focal_gamma=2.0):\n",
    "    num_items = len(buffer[\"return\"])\n",
    "    accumulation_size = math.ceil(num_items/batch_size)\n",
    "    # Set up the progress bar\n",
    "    pbar.reset()\n",
    "    pbar.total = num_items\n",
    "    # buffer[\"return\"] = scale(buffer[\"return\"])\n",
    "    buffer[\"return\"] = torch.tensor(buffer[\"return\"], device=device)\n",
    "    losses = []\n",
    "    optim.zero_grad()\n",
    "    for i in range(0, num_items, batch_size):\n",
    "        state_batch = buffer[\"state\"][i:i+batch_size]\n",
    "        action_batch = buffer[\"action\"][i:i+batch_size]\n",
    "        return_batch = buffer[\"return\"][i:i+batch_size]\n",
    "        focal_log_pis = []\n",
    "        for state, action in zip(state_batch, action_batch):                    # Obtain log_pi(state, action) for the batch\n",
    "            log_pi = get_log_pi(policy, state, action)\n",
    "            focal_coef = focal_alpha*(1-log_pi.exp()).pow(focal_gamma)\n",
    "            focal_log_pi = (focal_coef*log_pi).sum()                      # Sum log_probs over tokens               \n",
    "            focal_log_pis.append(focal_log_pi)\n",
    "        focal_log_pis = torch.stack(focal_log_pis)\n",
    "        pi_loss = -(focal_log_pis*return_batch).mean()\n",
    "        grad_scaler.scale(pi_loss/accumulation_size).backward()\n",
    "        losses.append(pi_loss.item())\n",
    "        pbar.update(len(state_batch))\n",
    "    grad_scaler.step(optim)\n",
    "    grad_scaler.update()\n",
    "    pbar.refresh()\n",
    "    return np.mean(losses)"
   ]
  },
  {
   "cell_type": "markdown",
   "id": "04042a3f-a9d1-4761-8497-7e65b06b985e",
   "metadata": {},
   "source": [
    "# Define parameters"
   ]
  },
  {
   "cell_type": "code",
   "execution_count": 8,
   "id": "97011ba3-ffe0-4c45-818c-1cabeb05f304",
   "metadata": {},
   "outputs": [],
   "source": [
    "# Algorithm parameters\n",
    "eps = 0.5\n",
    "min_eps = 0.25\n",
    "eps_decay = 1.0 # 0.999995\n",
    "gamma = 0.9\n",
    "focal_alpha = 0.25\n",
    "focal_gamma = 2.0\n",
    "# Training parameters\n",
    "cold_lr = 1e-3\n",
    "warm_lr = 1e-5\n",
    "lr = cold_lr\n",
    "batch_size = 32\n",
    "update_interval = 500\n",
    "num_unfreeze_layers = 0            # Unfreeze only the last 98 layers\n",
    "dropout = 0.1\n",
    "weight_decay = 0.0\n",
    "episodes = 200_000\n",
    "cold_episodes = 0 # 20_000\n",
    "# Evaluation parameters\n",
    "eval_max_iter = 10\n",
    "evaluate_interval = 5000\n",
    "record_output_interval = 10\n",
    "dev_data_path = r\"../data/processed/wi+locness/dev.json\"\n",
    "model_path = \"sl_logs/pretrain_synthetic_31:10:2022_09:39/model-best.pt\"\n",
    "train_type = \"pretrain\" if model_path is None else \"finetune\"\n",
    "current_datetime = datetime.now().strftime(\"%d_%m_%Y_%H:%M\")\n",
    "log_dir = os.path.join(\"pg_logs\", f\"{train_type}_rl_{current_datetime}\")\n",
    "env_kwargs = {\n",
    "    \"id\": \"gec_lev_dist-v1\",\n",
    "    \"datasets\": [\"wi+locness\"],                  # Datasets to load\n",
    "    \"correct_examples_percent\": [1.0],           # Percentage of correct sentences to load\n",
    "    \"repeat\": 1,                                 # Number of repetation of each sentence in ``\n",
    "    \"repeat_interval\": 1000,                     # Interval to use for repetition\n",
    "    \"consecutive\": False,                        # If the repetition should have consecutive or random distribution\n",
    "}\n",
    "meta_data = {\n",
    "    \"base_model\": model_path,\n",
    "    \"env_config\": env_kwargs,\n",
    "    \"description\": \"\"\"\n",
    "    Finetune the FL pretrained model. \n",
    "    Dropout enabled.\n",
    "    positive reward for success; episodes ends when all keep predicted for correct sentence\n",
    "    Don't shuffle batches.\n",
    "    Explore-Exploit determined per episode.\n",
    "    Label = UKNONWN if len(candidate_labels) == 0\n",
    "    Expoit = sample from candidate_probs.\n",
    "    Explore = Sample from candidate_lev_probs + [$KEEP].\n",
    "    No rescaling and Negative rewards. +0.1 for success.\n",
    "    Early termination for false negative too.\n",
    "    eval_max_iter set from 5 to 10.\n",
    "    Include delete in mixed edit type.\n",
    "    \"\"\"\n",
    "}"
   ]
  },
  {
   "cell_type": "markdown",
   "id": "29ba8b9f-7c68-42d6-8a2d-1f5a3bb4e898",
   "metadata": {},
   "source": [
    "# Load environment"
   ]
  },
  {
   "cell_type": "code",
   "execution_count": 9,
   "id": "4ce26c80-923b-4c86-a5d2-279ce6bb593b",
   "metadata": {},
   "outputs": [
    {
     "name": "stdout",
     "output_type": "stream",
     "text": [
      "Original number of data in wi+locness: 26815\n",
      "Number of data without correct sentences: 26815\n"
     ]
    }
   ],
   "source": [
    "env = gym.make(new_step_api=True, **env_kwargs)"
   ]
  },
  {
   "cell_type": "markdown",
   "id": "7aece764-53dd-45e1-8972-1387200f9010",
   "metadata": {},
   "source": [
    "# Load the models"
   ]
  },
  {
   "cell_type": "code",
   "execution_count": 10,
   "id": "eda32f0a-611a-4420-a32d-ae7e141d98d2",
   "metadata": {},
   "outputs": [
    {
     "name": "stderr",
     "output_type": "stream",
     "text": [
      "Some weights of the model checkpoint at roberta-base were not used when initializing RobertaModel: ['lm_head.dense.weight', 'lm_head.bias', 'lm_head.layer_norm.weight', 'roberta.pooler.dense.weight', 'lm_head.dense.bias', 'lm_head.layer_norm.bias', 'lm_head.decoder.weight', 'roberta.pooler.dense.bias']\n",
      "- This IS expected if you are initializing RobertaModel from the checkpoint of a model trained on another task or with another architecture (e.g. initializing a BertForSequenceClassification model from a BertForPreTraining model).\n",
      "- This IS NOT expected if you are initializing RobertaModel from the checkpoint of a model that you expect to be exactly identical (initializing a BertForSequenceClassification model from a BertForSequenceClassification model).\n"
     ]
    },
    {
     "name": "stdout",
     "output_type": "stream",
     "text": [
      "Number of evaluation examples: 3590\n"
     ]
    }
   ],
   "source": [
    "model_name = \"roberta-base\"\n",
    "tokenizer_config = {\"use_fast\": True}\n",
    "transformer_config = {\n",
    "    \"output_attentions\": False,\n",
    "    # \"hidden_dropout_prob\": 0.0,\n",
    "    # \"attention_probs_dropout_prob\": 0.0,\n",
    "}\n",
    "encoder = PretrainedEncoder(model_name, tokenizer_config, transformer_config).to(device)\n",
    "policy = Seq2Labels(encoder_model=encoder, num_labels=env.action_space.n, dropout=dropout).to(device)\n",
    "if model_path:\n",
    "    policy.load_state_dict(torch.load(model_path))\n",
    "optim = torch.optim.Adam(policy.parameters(), lr=lr, weight_decay=weight_decay)\n",
    "grad_scaler = torch.cuda.amp.GradScaler()\n",
    "writer = SummaryWriter(log_dir=log_dir)\n",
    "evaluator = get_evaluator(dev_data_path, env.labels, eval_max_iter)\n",
    "write_json(os.path.join(log_dir, \"meta.json\"), meta_data)"
   ]
  },
  {
   "cell_type": "markdown",
   "id": "6b15645f-54a0-4585-ad37-b13ab102ba87",
   "metadata": {},
   "source": [
    "# Train the model"
   ]
  },
  {
   "cell_type": "code",
   "execution_count": 11,
   "id": "0cb6e569-e47a-478b-8d31-4c9a63bba9ca",
   "metadata": {
    "tags": []
   },
   "outputs": [
    {
     "name": "stdout",
     "output_type": "stream",
     "text": [
      "Number of frozen parameters: 197/197\n"
     ]
    },
    {
     "data": {
      "application/vnd.jupyter.widget-view+json": {
       "model_id": "3e343e17615f4f5690fecc170f42c89b",
       "version_major": 2,
       "version_minor": 0
      },
      "text/plain": [
       "Training Episodes:   0%|          | 0/200000 [00:00<?, ?it/s]"
      ]
     },
     "metadata": {},
     "output_type": "display_data"
    },
    {
     "name": "stdout",
     "output_type": "stream",
     "text": [
      "Number of frozen parameters: 0/197\n"
     ]
    },
    {
     "name": "stderr",
     "output_type": "stream",
     "text": [
      "/home/rajk/miniconda3/envs/drl-gec/lib/python3.8/site-packages/gym/utils/passive_env_checker.py:133: UserWarning: \u001b[33mWARN: The obs returned by the `reset()` method should be an int or np.int64, actual type: <class 'list'>\u001b[0m\n",
      "  logger.warn(f\"{pre} should be an int or np.int64, actual type: {type(obs)}\")\n",
      "/home/rajk/miniconda3/envs/drl-gec/lib/python3.8/site-packages/gym/utils/passive_env_checker.py:165: UserWarning: \u001b[33mWARN: The obs returned by the `reset()` method is not within the observation space.\u001b[0m\n",
      "  logger.warn(f\"{pre} is not within the observation space.\")\n",
      "/home/rajk/miniconda3/envs/drl-gec/lib/python3.8/site-packages/gym/utils/passive_env_checker.py:227: DeprecationWarning: \u001b[33mWARN: Core environment is written in old step API which returns one bool instead of two. It is recommended to rewrite the environment with new step API. \u001b[0m\n",
      "  logger.deprecation(\n",
      "/home/rajk/miniconda3/envs/drl-gec/lib/python3.8/site-packages/gym/utils/passive_env_checker.py:133: UserWarning: \u001b[33mWARN: The obs returned by the `step()` method should be an int or np.int64, actual type: <class 'list'>\u001b[0m\n",
      "  logger.warn(f\"{pre} should be an int or np.int64, actual type: {type(obs)}\")\n",
      "/home/rajk/miniconda3/envs/drl-gec/lib/python3.8/site-packages/gym/utils/passive_env_checker.py:165: UserWarning: \u001b[33mWARN: The obs returned by the `step()` method is not within the observation space.\u001b[0m\n",
      "  logger.warn(f\"{pre} is not within the observation space.\")\n",
      "/home/rajk/miniconda3/envs/drl-gec/lib/python3.8/site-packages/gym/core.py:57: DeprecationWarning: \u001b[33mWARN: You are calling render method, but you didn't specified the argument render_mode at environment initialization. To maintain backward compatibility, the environment will render in human mode.\n",
      "If you want to render in human mode, initialize the environment in this way: gym.make('EnvName', render_mode='human') and don't call the render method.\n",
      "See here for more information: https://www.gymlibrary.ml/content/api/\u001b[0m\n",
      "  deprecation(\n",
      "/home/rajk/miniconda3/envs/drl-gec/lib/python3.8/site-packages/gym/utils/passive_env_checker.py:297: UserWarning: \u001b[33mWARN: No render fps was declared in the environment (env.metadata['render_fps'] is None or not defined), rendering may occur at inconsistent fps.\u001b[0m\n",
      "  logger.warn(\n"
     ]
    },
    {
     "data": {
      "application/vnd.jupyter.widget-view+json": {
       "model_id": "fb4bff048a7f41ecb4a8844447131135",
       "version_major": 2,
       "version_minor": 0
      },
      "text/plain": [
       "Updating Policy: 0it [00:00, ?it/s]"
      ]
     },
     "metadata": {},
     "output_type": "display_data"
    }
   ],
   "source": [
    "policy.train()\n",
    "# Freeze encoder weights\n",
    "freeze_params(policy.encoder, requires_grad=False, optim=optim, lr=lr)\n",
    "# Log hyperparameters\n",
    "writer.add_scalar(\"hyperparameters/gamma\", gamma, 0)\n",
    "writer.add_scalar(\"hyperparameters/dropout\", dropout, 0)\n",
    "writer.add_scalar(\"hyperparameters/batch_size\", batch_size, 0)\n",
    "writer.add_scalar(\"hyperparameters/focal_alpha\", focal_alpha, 0)\n",
    "writer.add_scalar(\"hyperparameters/focal_gamma\", focal_gamma, 0)\n",
    "writer.add_scalar(\"hyperparameters/cold_episodes\", cold_episodes, 0)\n",
    "writer.add_scalar(\"hyperparameters/update_interval\", update_interval, 0)\n",
    "# Variables for training progress bars\n",
    "policy_pbar = None\n",
    "\n",
    "mask_generator = env.mask_generator\n",
    "max_eval_score = 0\n",
    "eval_score = evaluator(policy)\n",
    "writer.add_scalar(\"rl/eval_score\", eval_score, 1)\n",
    "buffer_dict = defaultdict(list)\n",
    "for episode in tqdm(range(1, episodes+1), desc=\"Training Episodes\", total=episodes):\n",
    "    if ((cold_episodes == 0) and (episode == 1)) or (episode == cold_episodes):                # When cold epoch ends, update learning rate and unfreeze certain encoder layers \n",
    "        lr = warm_lr\n",
    "        freeze_params(policy.encoder, requires_grad=True, num_layers=num_unfreeze_layers, optim=optim, lr=lr)\n",
    "    rewards = []\n",
    "    log_pis = []\n",
    "    entropies = []\n",
    "    token_lens = []\n",
    "    done = False\n",
    "    init_state = state = env.reset()\n",
    "    reference = env.current_reference\n",
    "    explore = np.random.uniform() < eps\n",
    "    with torch.cuda.amp.autocast():\n",
    "        while not done:\n",
    "            action, log_pi, entropy = select_action(policy, state, reference, mask_generator, explore=explore)\n",
    "            next_state, reward, terminated, truncated, info = env.step(action)\n",
    "            done = terminated or truncated\n",
    "            # Save timestep data\n",
    "            rewards.append(reward)\n",
    "            log_pis.append(log_pi)\n",
    "            entropies.append(entropy)\n",
    "            token_lens.append(len(next_state))\n",
    "            buffer_dict[\"state\"].append(state)\n",
    "            buffer_dict[\"action\"].append(action)\n",
    "            state = next_state\n",
    "    # Compute returns\n",
    "    returns = discount_cumsum(rewards, discount=gamma)\n",
    "    buffer_dict[\"return\"].extend(returns)\n",
    "    # eps = max(eps*eps_decay, min_eps)\n",
    "    # Train the model\n",
    "    if (episode % update_interval) == 0:\n",
    "        if policy_pbar is None:\n",
    "            policy_pbar = tqdm(desc=\"Updating Policy\")\n",
    "        loss = train(policy_pbar, optim, grad_scaler, policy, buffer_dict, batch_size=batch_size, focal_alpha=focal_alpha, focal_gamma=focal_gamma)\n",
    "        writer.add_scalar(\"rl/mean_loss\", loss, episode)\n",
    "        buffer_dict = defaultdict(list)\n",
    "        torch.cuda.empty_cache()\n",
    "    # Log the episode output to the tensorboard\n",
    "    if (episode % record_output_interval) == 0:\n",
    "        render_output = \"  \\n\".join(remove_ansi(out) for out in env.render())\n",
    "        writer.add_text(\"rl/output\", render_output, episode)\n",
    "    # Evaluate the model\n",
    "    if (episode % evaluate_interval) == 0:\n",
    "        eval_score = evaluator(policy)\n",
    "        if eval_score >= max_eval_score:\n",
    "            torch.save(policy.state_dict(), os.path.join(log_dir, \"model-best.pt\"))\n",
    "            max_eval_score = eval_score\n",
    "        writer.add_scalar(\"rl/eval_score\", eval_score, episode)\n",
    "    # Log scalar episode results\n",
    "    rewards = np.array(rewards)\n",
    "    writer.add_scalar(\"rl/lr\", lr, episode)\n",
    "    writer.add_scalar(\"rl/eps\", eps, episode)\n",
    "    writer.add_scalar(\"rl/explore\", explore, episode)\n",
    "    writer.add_scalar(\"rl/episode_length\", len(rewards), episode)\n",
    "    writer.add_scalar(\"rl/episode_reward_last\", rewards[-1], episode)\n",
    "    writer.add_scalar(\"rl/episode_reward_total\", sum(rewards), episode)\n",
    "    writer.add_scalar(\"rl/token_length_delta_ratio\", (len(state)-len(init_state))/len(init_state), episode)\n",
    "    # Log histogram episode results\n",
    "    writer.add_histogram(\"rl/episode_reward\", rewards, episode)\n",
    "    writer.add_histogram(\"rl/episode_returns\", returns, episode)\n",
    "    writer.add_histogram(\"rl/episode_log_pi\", torch.cat(log_pis), episode)\n",
    "    writer.add_histogram(\"rl/episode_entropy\", torch.cat(entropies), episode)\n",
    "    writer.add_histogram(\"rl/episode_token_length\", np.array(token_lens), episode)\n",
    "    writer.add_histogram(\"rl/episode_returns_normalized\", np.array(scale(returns)), episode)"
   ]
  },
  {
   "cell_type": "markdown",
   "id": "f917beb2-bc40-477e-b3e7-9402ceef4692",
   "metadata": {
    "tags": []
   },
   "source": [
    "# Save model"
   ]
  },
  {
   "cell_type": "code",
   "execution_count": 12,
   "id": "065d550f-56a6-4eaf-bb21-649a5d718a1b",
   "metadata": {},
   "outputs": [],
   "source": [
    "torch.save(policy.state_dict(), os.path.join(log_dir, \"model-last.pt\"))"
   ]
  },
  {
   "cell_type": "markdown",
   "id": "9aa3edbc-25eb-4a35-be1a-0ca26befc9dd",
   "metadata": {},
   "source": [
    "policy.load_state_dict(torch.load(os.path.join(log_dir, \"model-best.pt\")))"
   ]
  },
  {
   "cell_type": "markdown",
   "id": "b0cd3700-01af-472b-a33c-93bbb23e62dd",
   "metadata": {},
   "source": [
    "# Test model"
   ]
  },
  {
   "cell_type": "code",
   "execution_count": 13,
   "id": "c8454cfc-e75e-4b1b-8564-91f2c811d647",
   "metadata": {},
   "outputs": [],
   "source": [
    "@torch.no_grad()\n",
    "def greedy_action(policy, state):\n",
    "    [logits] = policy([state])\n",
    "    v, i = logits.topk(5)\n",
    "    v = v.cpu().numpy()\n",
    "    i = i.cpu().numpy()\n",
    "    dist = Categorical(logits=logits)\n",
    "    probs = dist.probs\n",
    "    entropy = dist.entropy().cpu().numpy()\n",
    "    for a, e, lp in zip(state, entropy, zip(env.labels[i], v)):\n",
    "        print(f\"{e:4f}, {a:15}\", \" -- \".join(f\"{l} [{p:5.2f}]\" for (l, p) in zip(*lp)))\n",
    "    print()\n",
    "    action = logits.argmax(axis=-1)\n",
    "    # action = Categorical(logits=logits).sample()\n",
    "    return action.cpu().numpy()"
   ]
  },
  {
   "cell_type": "code",
   "execution_count": 14,
   "id": "cbf4c3f7-91f0-4340-b30a-a21efe93fca6",
   "metadata": {},
   "outputs": [],
   "source": [
    "_ = policy.eval()          # Set poliy to eval mode to disable dropouts"
   ]
  },
  {
   "cell_type": "code",
   "execution_count": 15,
   "id": "51f01563-aea0-41d5-98c2-0e63f8cec77a",
   "metadata": {},
   "outputs": [
    {
     "name": "stdout",
     "output_type": "stream",
     "text": [
      "Original number of data in wi+locness: 26815\n",
      "Number of data without correct sentences: 17494\n"
     ]
    }
   ],
   "source": [
    "env = gym.make(\"gec_lev_dist-v1\", datasets=[\"wi+locness\"], new_step_api=True, correct_examples_percent=[0.0], repeat=1)"
   ]
  },
  {
   "cell_type": "code",
   "execution_count": 18,
   "id": "f31a90a3-3021-4443-81af-e857a1f81e0e",
   "metadata": {
    "tags": []
   },
   "outputs": [
    {
     "name": "stdout",
     "output_type": "stream",
     "text": [
      "# References\n",
      "['$START', 'You', 'take', 'the', 'world', 'in', 'your', 'hands', 'with', 'technology', 'to', 'make', 'your', 'life', 'better', 'and', 'better', 'actually', ',', 'but', 'it', 'is', 'not', 'full', 'that', 'it', 'will', 'good', ',', 'let', 'keep', 'it', 'with', 'your', 'needs', ',', 'your', 'time', 'and', 'your', 'money', 'too', '.']\n",
      "\n",
      "0.926742, $START          $KEEP [ 8.83] -- $DELETE [ 4.43] -- $APPEND_If [ 3.84] -- $APPEND_So [ 3.72] -- $APPEND_The [ 3.63]\n",
      "1.205765, You             $KEEP [ 8.68] -- $APPEND_can [ 5.50] -- $APPEND_will [ 4.86] -- $APPEND_have [ 4.49] -- $DELETE [ 4.44]\n",
      "2.393711, take            $KEEP [ 7.81] -- $REPLACE_take [ 5.64] -- $REPLACE_have [ 5.49] -- $REPLACE_put [ 5.01] -- $REPLACE_bring [ 4.62]\n",
      "0.835562, the             $KEEP [ 8.53] -- $DELETE [ 5.81] -- $REPLACE_a [ 4.24] -- $REPLACE_our [ 3.69] -- $APPEND_whole [ 3.14]\n",
      "1.248397, world           $KEEP [ 8.00] -- $DELETE [ 5.24] -- $TRANSFORM_CASE_CAPITAL [ 2.43] -- $MERGE_SPACE [ 1.81] -- $TRANSFORM_AGREEMENT_PLURAL [ 1.68]\n",
      "1.265970, on              $KEEP [ 8.77] -- $REPLACE_in [ 7.53] -- $REPLACE_into [ 7.01] -- $DELETE [ 4.71] -- $REPLACE_onto [ 4.67]\n",
      "0.308415, your            $KEEP [ 9.79] -- $APPEND_own [ 5.23] -- $DELETE [ 5.03] -- $REPLACE_your [ 4.98] -- $REPLACE_their [ 3.38]\n",
      "1.396422, hands           $KEEP [ 8.18] -- $DELETE [ 6.28] -- $APPEND_, [ 4.90] -- $TRANSFORM_VERB_VBZ_VB [ 4.72] -- $REPLACE_hand [ 3.36]\n",
      "1.488601, with            $KEEP [ 8.07] -- $DELETE [ 5.09] -- $APPEND_the [ 4.38] -- $REPLACE_via [ 4.17] -- $REPLACE_with [ 3.89]\n",
      "1.127908, technology      $KEEP [ 8.16] -- $APPEND_, [ 4.33] -- $DELETE [ 3.68] -- $REPLACE_technologies [ 2.96] -- $TRANSFORM_CASE_CAPITAL [ 2.84]\n",
      "0.851938, to              $KEEP [ 8.37] -- $DELETE [ 5.23] -- $REPLACE_to [ 4.57] -- $REPLACE_and [ 3.18] -- $REPLACE_for [ 2.87]\n",
      "2.171190, help            $KEEP [ 8.10] -- $REPLACE_make [ 6.98] -- $APPEND_make [ 6.53] -- $DELETE [ 5.02] -- $REPLACE_improve [ 4.41]\n",
      "0.798269, your            $KEEP [ 8.74] -- $DELETE [ 5.14] -- $REPLACE_your [ 4.28] -- $APPEND_make [ 3.43] -- $REPLACE_yourself [ 3.30]\n",
      "1.621722, life            $KEEP [ 8.31] -- $DELETE [ 4.37] -- $APPEND_life [ 3.94] -- $APPEND_be [ 3.85] -- $TRANSFORM_AGREEMENT_PLURAL [ 3.78]\n",
      "1.004620, better          $KEEP [ 8.85] -- $DELETE [ 6.23] -- $APPEND_, [ 5.91] -- $REPLACE_better [ 3.67] -- $APPEND_good [ 3.33]\n",
      "0.716802, and             $KEEP [ 8.67] -- $DELETE [ 5.18] -- $APPEND_more [ 3.79] -- $APPEND_, [ 3.31] -- $APPEND_the [ 2.92]\n",
      "1.058095, better          $KEEP [ 8.76] -- $DELETE [ 5.70] -- $APPEND_, [ 5.56] -- $REPLACE_better [ 3.96] -- $APPEND_. [ 3.42]\n",
      "1.895695, actually        $KEEP [ 7.89] -- $APPEND_, [ 6.75] -- $DELETE [ 6.04] -- $REPLACE_, [ 5.52] -- $APPEND_. [ 3.14]\n",
      "1.521435, but             $KEEP [ 7.92] -- $REPLACE_. [ 6.72] -- $APPEND_. [ 5.66] -- $DELETE [ 5.30] -- $TRANSFORM_CASE_CAPITAL [ 4.54]\n",
      "2.089882, It              $KEEP [ 7.69] -- $TRANSFORM_CASE_LOWER [ 6.90] -- $DELETE [ 5.67] -- $REPLACE_It [ 4.79] -- $REPLACE_it [ 4.21]\n",
      "0.807953, is              $KEEP [ 8.55] -- $DELETE [ 5.27] -- $REPLACE_'s [ 4.96] -- $REPLACE_is [ 4.68] -- $APPEND_not [ 3.26]\n",
      "0.954878, not             $KEEP [ 8.18] -- $DELETE [ 4.82] -- $APPEND_the [ 3.65] -- $APPEND_a [ 3.21] -- $APPEND_so [ 2.84]\n",
      "3.636545, full            $KEEP [ 7.67] -- $DELETE [ 6.17] -- $REPLACE_full [ 5.88] -- $REPLACE_true [ 5.67] -- $REPLACE_means [ 3.67]\n",
      "1.429375, that            $KEEP [ 8.03] -- $DELETE [ 6.41] -- $REPLACE_of [ 4.77] -- $REPLACE_, [ 3.29] -- $APPEND_, [ 3.24]\n",
      "1.417516, it              $KEEP [ 7.93] -- $DELETE [ 6.17] -- $REPLACE_it [ 3.37] -- $APPEND_is [ 3.27] -- $TRANSFORM_CASE_CAPITAL [ 2.88]\n",
      "1.298073, will            $APPEND_be [ 8.79] -- $KEEP [ 7.78] -- $DELETE [ 5.33] -- $REPLACE_is [ 5.12] -- $REPLACE_be [ 4.37]\n",
      "2.286118, good            $KEEP [ 7.44] -- $DELETE [ 5.42] -- $REPLACE_be [ 4.28] -- $APPEND_be [ 3.35] -- $REPLACE_not [ 2.56]\n",
      "1.752343, ,               $KEEP [ 7.69] -- $DELETE [ 6.10] -- $REPLACE_. [ 5.98] -- $REPLACE_; [ 3.54] -- $APPEND_, [ 3.13]\n",
      "2.519133, let             $KEEP [ 7.39] -- $DELETE [ 5.45] -- $REPLACE_. [ 5.12] -- $APPEND_'s [ 4.52] -- $REPLACE_you [ 4.10]\n",
      "2.275013, keep            $KEEP [ 7.45] -- $DELETE [ 5.57] -- $REPLACE_keep [ 4.14] -- $REPLACE_'s [ 3.89] -- $REPLACE_you [ 3.43]\n",
      "2.231683, it              $KEEP [ 7.83] -- $DELETE [ 5.94] -- $APPEND_working [ 3.00] -- $REPLACE_it [ 2.95] -- $MERGE_SPACE [ 2.56]\n",
      "2.020771, with            $KEEP [ 7.65] -- $REPLACE_for [ 5.17] -- $DELETE [ 4.60] -- $REPLACE_to [ 4.32] -- $REPLACE_on [ 4.21]\n",
      "0.713782, your            $KEEP [ 8.93] -- $REPLACE_your [ 4.65] -- $APPEND_own [ 4.45] -- $DELETE [ 4.43] -- $REPLACE_our [ 4.42]\n",
      "1.201972, needs           $KEEP [ 8.54] -- $TRANSFORM_AGREEMENT_SINGULAR [ 4.96] -- $DELETE [ 4.59] -- $APPEND_, [ 3.54] -- $APPEND_. [ 3.38]\n",
      "0.830759, ,               $KEEP [ 8.04] -- $DELETE [ 4.74] -- $APPEND_, [ 3.80] -- $APPEND_and [ 3.40] -- $REPLACE_and [ 3.27]\n",
      "0.388751, your            $KEEP [ 9.45] -- $DELETE [ 5.31] -- $APPEND_own [ 4.30] -- $REPLACE_our [ 4.03] -- $TRANSFORM_CASE_CAPITAL [ 3.76]\n",
      "1.183685, time            $KEEP [ 8.31] -- $APPEND_, [ 6.26] -- $DELETE [ 5.34] -- $APPEND_. [ 3.28] -- $REPLACE_, [ 2.67]\n",
      "0.850552, and             $KEEP [ 7.99] -- $APPEND_, [ 4.47] -- $DELETE [ 3.60] -- $REPLACE_, [ 3.16] -- $APPEND_in [ 2.35]\n",
      "0.438946, your            $KEEP [ 9.18] -- $DELETE [ 5.50] -- $APPEND_own [ 3.91] -- $REPLACE_our [ 3.70] -- $APPEND_your [ 3.44]\n",
      "1.138451, money           $KEEP [ 8.04] -- $APPEND_, [ 5.83] -- $DELETE [ 4.44] -- $APPEND_. [ 2.38] -- $TRANSFORM_AGREEMENT_PLURAL [ 2.32]\n",
      "1.902758, too             $KEEP [ 7.44] -- $DELETE [ 6.06] -- $REPLACE_either [ 3.67] -- $APPEND_be [ 2.52] -- $APPEND_. [ 2.47]\n",
      "0.560711, .               $KEEP [ 8.63] -- $DELETE [ 5.08] -- $REPLACE_! [ 4.26] -- $REPLACE_. [ 3.71] -- $APPEND_. [ 3.28]\n",
      "\n",
      "\u001b[37;1mTimestep:\u001b[0m 0  \n",
      "\u001b[37;1mRewards:\u001b[0m 0.000  \n",
      "\u001b[37;1mSource:\u001b[0m $START You take the world on your hands with technology to help your life better and better actually but It is not full that it will good , let keep it with your needs , your time and your money too .  \n",
      "\u001b[37;1mOutput:\u001b[0m $START You take the world on your hands with technology to help your life better and better actually but It is not full that it will good , let keep it with your needs , your time and your money too .  \n",
      "\n",
      "\u001b[37;1mTimestep:\u001b[0m 1  \n",
      "\u001b[37;1mRewards:\u001b[0m -0.100  \n",
      "\u001b[37;1mSource:\u001b[0m $START You take the world on your hands with technology to help your life better and better actually but It is not full that it \u001b[32;1mwill\u001b[0m [\u001b[31;1m$APPEND_be\u001b[0m] good , let keep it with your needs , your time and your money too .  \n",
      "\u001b[37;1mOutput:\u001b[0m $START You take the world on your hands with technology to help your life better and better actually but It is not full that it will be good , let keep it with your needs , your time and your money too .  \n",
      "\n",
      "0.949799, $START          $KEEP [ 8.83] -- $DELETE [ 4.44] -- $APPEND_If [ 3.95] -- $APPEND_So [ 3.77] -- $APPEND_The [ 3.67]\n",
      "1.264264, You             $KEEP [ 8.61] -- $APPEND_can [ 5.42] -- $APPEND_will [ 4.85] -- $DELETE [ 4.47] -- $APPEND_must [ 4.44]\n",
      "2.427603, take            $KEEP [ 7.77] -- $REPLACE_take [ 5.61] -- $REPLACE_have [ 5.60] -- $REPLACE_put [ 5.02] -- $REPLACE_bring [ 4.57]\n",
      "0.870693, the             $KEEP [ 8.48] -- $DELETE [ 5.81] -- $REPLACE_a [ 4.24] -- $REPLACE_our [ 3.71] -- $REPLACE_your [ 3.16]\n",
      "1.295605, world           $KEEP [ 7.97] -- $DELETE [ 5.25] -- $TRANSFORM_CASE_CAPITAL [ 2.45] -- $MERGE_SPACE [ 1.84] -- $TRANSFORM_AGREEMENT_PLURAL [ 1.70]\n",
      "1.264033, on              $KEEP [ 8.75] -- $REPLACE_in [ 7.54] -- $REPLACE_into [ 6.96] -- $DELETE [ 4.75] -- $REPLACE_onto [ 4.64]\n",
      "0.329421, your            $KEEP [ 9.73] -- $APPEND_own [ 5.21] -- $DELETE [ 5.10] -- $REPLACE_your [ 5.04] -- $REPLACE_their [ 3.43]\n",
      "1.417250, hands           $KEEP [ 8.17] -- $DELETE [ 6.26] -- $APPEND_, [ 5.03] -- $TRANSFORM_VERB_VBZ_VB [ 4.74] -- $REPLACE_hand [ 3.37]\n",
      "1.506858, with            $KEEP [ 8.05] -- $DELETE [ 5.05] -- $APPEND_the [ 4.36] -- $REPLACE_via [ 4.20] -- $REPLACE_with [ 3.93]\n",
      "1.137636, technology      $KEEP [ 8.17] -- $APPEND_, [ 4.40] -- $DELETE [ 3.70] -- $REPLACE_technologies [ 3.06] -- $TRANSFORM_AGREEMENT_PLURAL [ 2.88]\n",
      "0.888947, to              $KEEP [ 8.33] -- $DELETE [ 5.24] -- $REPLACE_to [ 4.59] -- $REPLACE_and [ 3.19] -- $REPLACE_for [ 2.88]\n",
      "2.203050, help            $KEEP [ 8.07] -- $REPLACE_make [ 7.02] -- $APPEND_make [ 6.53] -- $DELETE [ 5.09] -- $REPLACE_improve [ 4.41]\n",
      "0.853313, your            $KEEP [ 8.68] -- $DELETE [ 5.22] -- $REPLACE_your [ 4.30] -- $APPEND_make [ 3.43] -- $REPLACE_yourself [ 3.32]\n",
      "1.614476, life            $KEEP [ 8.34] -- $DELETE [ 4.43] -- $APPEND_life [ 4.03] -- $TRANSFORM_AGREEMENT_PLURAL [ 3.81] -- $REPLACE_lives [ 3.79]\n",
      "1.039643, better          $KEEP [ 8.83] -- $DELETE [ 6.24] -- $APPEND_, [ 5.87] -- $REPLACE_better [ 3.69] -- $APPEND_good [ 3.36]\n",
      "0.690123, and             $KEEP [ 8.69] -- $DELETE [ 5.21] -- $APPEND_more [ 3.75] -- $APPEND_, [ 3.39] -- $APPEND_the [ 2.99]\n",
      "1.089435, better          $KEEP [ 8.76] -- $DELETE [ 5.72] -- $APPEND_, [ 5.58] -- $REPLACE_better [ 4.08] -- $APPEND_. [ 3.54]\n",
      "1.907505, actually        $KEEP [ 7.87] -- $APPEND_, [ 6.74] -- $DELETE [ 6.01] -- $REPLACE_, [ 5.54] -- $APPEND_. [ 3.31]\n",
      "1.602409, but             $KEEP [ 7.88] -- $REPLACE_. [ 6.81] -- $APPEND_. [ 5.74] -- $DELETE [ 5.36] -- $TRANSFORM_CASE_CAPITAL [ 4.61]\n",
      "2.183440, It              $KEEP [ 7.63] -- $TRANSFORM_CASE_LOWER [ 6.73] -- $DELETE [ 5.68] -- $REPLACE_It [ 5.07] -- $REPLACE_it [ 4.59]\n",
      "0.815753, is              $KEEP [ 8.56] -- $DELETE [ 5.24] -- $REPLACE_'s [ 5.00] -- $REPLACE_is [ 4.77] -- $APPEND_is [ 3.38]\n",
      "0.969909, not             $KEEP [ 8.17] -- $DELETE [ 4.78] -- $APPEND_the [ 3.87] -- $APPEND_a [ 3.15] -- $APPEND_so [ 2.99]\n",
      "3.940879, full            $KEEP [ 7.81] -- $REPLACE_true [ 6.77] -- $DELETE [ 6.04] -- $REPLACE_full [ 5.70] -- $REPLACE_means [ 4.38]\n",
      "1.393634, that            $KEEP [ 8.07] -- $DELETE [ 6.17] -- $REPLACE_of [ 4.11] -- $REPLACE_, [ 3.70] -- $APPEND_, [ 3.67]\n",
      "1.371886, it              $KEEP [ 7.94] -- $DELETE [ 5.88] -- $REPLACE_it [ 4.16] -- $REPLACE_. [ 3.10] -- $APPEND_. [ 2.95]\n",
      "1.244502, will            $KEEP [ 8.08] -- $DELETE [ 6.24] -- $REPLACE_would [ 4.34] -- $REPLACE_will [ 3.67] -- $APPEND_not [ 3.41]\n",
      "0.857256, be              $KEEP [ 8.35] -- $DELETE [ 5.61] -- $REPLACE_be [ 3.63] -- $APPEND_very [ 3.09] -- $REPLACE_is [ 2.66]\n",
      "1.667959, good            $KEEP [ 7.72] -- $DELETE [ 5.52] -- $REPLACE_. [ 3.73] -- $APPEND_. [ 3.24] -- $REPLACE_bad [ 3.09]\n",
      "1.780662, ,               $KEEP [ 7.70] -- $REPLACE_. [ 6.28] -- $DELETE [ 6.12] -- $REPLACE_; [ 3.56] -- $APPEND_. [ 3.15]\n",
      "2.572449, let             $KEEP [ 7.34] -- $DELETE [ 5.50] -- $REPLACE_. [ 5.25] -- $APPEND_'s [ 4.37] -- $TRANSFORM_CASE_CAPITAL [ 4.16]\n",
      "2.232901, keep            $KEEP [ 7.44] -- $DELETE [ 5.66] -- $REPLACE_'s [ 3.98] -- $REPLACE_keep [ 3.94] -- $REPLACE_you [ 3.36]\n",
      "2.368547, it              $KEEP [ 7.74] -- $DELETE [ 6.02] -- $APPEND_working [ 3.09] -- $REPLACE_it [ 2.90] -- $MERGE_SPACE [ 2.58]\n",
      "2.080741, with            $KEEP [ 7.61] -- $REPLACE_for [ 5.03] -- $DELETE [ 4.63] -- $REPLACE_to [ 4.39] -- $REPLACE_on [ 4.10]\n",
      "0.773879, your            $KEEP [ 8.89] -- $REPLACE_your [ 4.72] -- $REPLACE_our [ 4.54] -- $APPEND_own [ 4.49] -- $DELETE [ 4.47]\n",
      "1.265587, needs           $KEEP [ 8.51] -- $TRANSFORM_AGREEMENT_SINGULAR [ 4.95] -- $DELETE [ 4.69] -- $APPEND_, [ 3.58] -- $APPEND_. [ 3.36]\n",
      "0.844466, ,               $KEEP [ 8.05] -- $DELETE [ 4.79] -- $APPEND_, [ 3.91] -- $APPEND_and [ 3.39] -- $REPLACE_and [ 3.26]\n",
      "0.419734, your            $KEEP [ 9.39] -- $DELETE [ 5.42] -- $APPEND_own [ 4.27] -- $REPLACE_our [ 4.20] -- $TRANSFORM_CASE_CAPITAL [ 3.75]\n",
      "1.230882, time            $KEEP [ 8.29] -- $APPEND_, [ 6.21] -- $DELETE [ 5.41] -- $APPEND_. [ 3.34] -- $REPLACE_, [ 2.78]\n",
      "0.862971, and             $KEEP [ 7.99] -- $APPEND_, [ 4.45] -- $DELETE [ 3.60] -- $REPLACE_, [ 3.14] -- $APPEND_in [ 2.44]\n",
      "0.462860, your            $KEEP [ 9.14] -- $DELETE [ 5.54] -- $APPEND_own [ 3.88] -- $REPLACE_our [ 3.88] -- $APPEND_your [ 3.35]\n",
      "1.155800, money           $KEEP [ 8.05] -- $APPEND_, [ 5.88] -- $DELETE [ 4.49] -- $APPEND_. [ 2.49] -- $TRANSFORM_AGREEMENT_PLURAL [ 2.30]\n",
      "1.941493, too             $KEEP [ 7.42] -- $DELETE [ 6.12] -- $REPLACE_either [ 3.56] -- $APPEND_. [ 2.65] -- $REPLACE_too [ 2.47]\n",
      "0.568163, .               $KEEP [ 8.63] -- $DELETE [ 5.08] -- $REPLACE_! [ 4.27] -- $REPLACE_. [ 3.77] -- $APPEND_. [ 3.29]\n",
      "\n",
      "\u001b[37;1mTimestep:\u001b[0m \u001b[32;1m2\u001b[0m  \n",
      "\u001b[37;1mRewards:\u001b[0m 0.000  \n",
      "\u001b[37;1mSource:\u001b[0m $START You take the world on your hands with technology to help your life better and better actually but It is not full that it will be good , let keep it with your needs , your time and your money too .  \n",
      "\u001b[37;1mOutput:\u001b[0m $START You take the world on your hands with technology to help your life better and better actually but It is not full that it will be good , let keep it with your needs , your time and your money too .  \n",
      "\n"
     ]
    }
   ],
   "source": [
    "state = env.reset()\n",
    "print(\"# References\")\n",
    "for ref in env.reference_tokens_list:\n",
    "    print(ref)\n",
    "print()\n",
    "done = False\n",
    "while not done:\n",
    "    action = greedy_action(policy, state)\n",
    "    next_state, reward, terminated, truncated, info = env.step(action)\n",
    "    done = terminated or truncated\n",
    "    state = next_state\n",
    "    outputs = env.render()\n",
    "    for o in outputs:\n",
    "        print(o)"
   ]
  },
  {
   "cell_type": "markdown",
   "id": "c8abb27f-8b2f-4a03-a92a-7fd68f15aaad",
   "metadata": {},
   "source": [
    "# Close Google Compute Instance"
   ]
  },
  {
   "cell_type": "code",
   "execution_count": 17,
   "id": "e60b4e5a-64f3-421e-9cd1-3d034ace64e0",
   "metadata": {},
   "outputs": [],
   "source": [
    "if is_gce_instance():\n",
    "    !gcloud compute instances stop drl-gec --zone us-west1-b"
   ]
  },
  {
   "cell_type": "code",
   "execution_count": null,
   "id": "3b75b268-8f2e-4ee0-bc24-bbec9c4d736b",
   "metadata": {},
   "outputs": [],
   "source": []
  }
 ],
 "metadata": {
  "kernelspec": {
   "display_name": "drl-gec",
   "language": "python",
   "name": "drl-gec"
  },
  "language_info": {
   "codemirror_mode": {
    "name": "ipython",
    "version": 3
   },
   "file_extension": ".py",
   "mimetype": "text/x-python",
   "name": "python",
   "nbconvert_exporter": "python",
   "pygments_lexer": "ipython3",
   "version": "3.8.13"
  }
 },
 "nbformat": 4,
 "nbformat_minor": 5
}
